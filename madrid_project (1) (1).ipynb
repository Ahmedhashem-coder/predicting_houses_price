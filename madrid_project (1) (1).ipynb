{
 "cells": [
  {
   "cell_type": "code",
   "execution_count": 1,
   "id": "682f26f9",
   "metadata": {},
   "outputs": [],
   "source": [
    "import pandas as pd\n",
    "import matplotlib.pyplot as plt\n",
    "import seaborn as sns\n",
    "from sklearn.ensemble import ExtraTreesRegressor\n",
    "%matplotlib inline\n",
    "\n",
    "from sklearn.preprocessing import MinMaxScaler\n",
    "import numpy as np"
   ]
  },
  {
   "cell_type": "code",
   "execution_count": 2,
   "id": "e986ebed",
   "metadata": {},
   "outputs": [],
   "source": [
    "from pyspark.sql import SparkSession\n",
    "spark = SparkSession.builder.appName(\"Spark Clustering\").getOrCreate()"
   ]
  },
  {
   "cell_type": "code",
   "execution_count": 3,
   "id": "f990eb22",
   "metadata": {},
   "outputs": [],
   "source": [
    "df = pd.read_csv(\"houses_madrid.csv\")\n",
    "pd.set_option(\"display.max_columns\", None)"
   ]
  },
  {
   "cell_type": "markdown",
   "id": "41878bae",
   "metadata": {},
   "source": []
  },
  {
   "cell_type": "code",
   "execution_count": 4,
   "id": "5bc36a6e",
   "metadata": {},
   "outputs": [
    {
     "data": {
      "text/html": [
       "<div>\n",
       "<style scoped>\n",
       "    .dataframe tbody tr th:only-of-type {\n",
       "        vertical-align: middle;\n",
       "    }\n",
       "\n",
       "    .dataframe tbody tr th {\n",
       "        vertical-align: top;\n",
       "    }\n",
       "\n",
       "    .dataframe thead th {\n",
       "        text-align: right;\n",
       "    }\n",
       "</style>\n",
       "<table border=\"1\" class=\"dataframe\">\n",
       "  <thead>\n",
       "    <tr style=\"text-align: right;\">\n",
       "      <th></th>\n",
       "      <th>Unnamed: 0</th>\n",
       "      <th>id</th>\n",
       "      <th>title</th>\n",
       "      <th>subtitle</th>\n",
       "      <th>sq_mt_built</th>\n",
       "      <th>sq_mt_useful</th>\n",
       "      <th>n_rooms</th>\n",
       "      <th>n_bathrooms</th>\n",
       "      <th>n_floors</th>\n",
       "      <th>sq_mt_allotment</th>\n",
       "      <th>latitude</th>\n",
       "      <th>longitude</th>\n",
       "      <th>raw_address</th>\n",
       "      <th>is_exact_address_hidden</th>\n",
       "      <th>street_name</th>\n",
       "      <th>street_number</th>\n",
       "      <th>portal</th>\n",
       "      <th>floor</th>\n",
       "      <th>is_floor_under</th>\n",
       "      <th>door</th>\n",
       "      <th>neighborhood_id</th>\n",
       "      <th>operation</th>\n",
       "      <th>rent_price</th>\n",
       "      <th>rent_price_by_area</th>\n",
       "      <th>is_rent_price_known</th>\n",
       "      <th>buy_price</th>\n",
       "      <th>buy_price_by_area</th>\n",
       "      <th>is_buy_price_known</th>\n",
       "      <th>house_type_id</th>\n",
       "      <th>is_renewal_needed</th>\n",
       "      <th>is_new_development</th>\n",
       "      <th>built_year</th>\n",
       "      <th>has_central_heating</th>\n",
       "      <th>has_individual_heating</th>\n",
       "      <th>are_pets_allowed</th>\n",
       "      <th>has_ac</th>\n",
       "      <th>has_fitted_wardrobes</th>\n",
       "      <th>has_lift</th>\n",
       "      <th>is_exterior</th>\n",
       "      <th>has_garden</th>\n",
       "      <th>has_pool</th>\n",
       "      <th>has_terrace</th>\n",
       "      <th>has_balcony</th>\n",
       "      <th>has_storage_room</th>\n",
       "      <th>is_furnished</th>\n",
       "      <th>is_kitchen_equipped</th>\n",
       "      <th>is_accessible</th>\n",
       "      <th>has_green_zones</th>\n",
       "      <th>energy_certificate</th>\n",
       "      <th>has_parking</th>\n",
       "      <th>has_private_parking</th>\n",
       "      <th>has_public_parking</th>\n",
       "      <th>is_parking_included_in_price</th>\n",
       "      <th>parking_price</th>\n",
       "      <th>is_orientation_north</th>\n",
       "      <th>is_orientation_west</th>\n",
       "      <th>is_orientation_south</th>\n",
       "      <th>is_orientation_east</th>\n",
       "    </tr>\n",
       "  </thead>\n",
       "  <tbody>\n",
       "    <tr>\n",
       "      <th>991</th>\n",
       "      <td>991</td>\n",
       "      <td>20751</td>\n",
       "      <td>Piso en venta en calle Canteras de Tilly</td>\n",
       "      <td>Casco Histórico de Vicálvaro, Madrid</td>\n",
       "      <td>65.0</td>\n",
       "      <td>NaN</td>\n",
       "      <td>3</td>\n",
       "      <td>1.0</td>\n",
       "      <td>NaN</td>\n",
       "      <td>NaN</td>\n",
       "      <td>NaN</td>\n",
       "      <td>NaN</td>\n",
       "      <td>Calle Canteras de Tilly</td>\n",
       "      <td>True</td>\n",
       "      <td>Calle Canteras de Tilly</td>\n",
       "      <td>NaN</td>\n",
       "      <td>NaN</td>\n",
       "      <td>1</td>\n",
       "      <td>False</td>\n",
       "      <td>NaN</td>\n",
       "      <td>Neighborhood 125: Casco Histórico de Vicálvaro...</td>\n",
       "      <td>sale</td>\n",
       "      <td>744</td>\n",
       "      <td>NaN</td>\n",
       "      <td>False</td>\n",
       "      <td>150000</td>\n",
       "      <td>2308</td>\n",
       "      <td>True</td>\n",
       "      <td>HouseType 1: Pisos</td>\n",
       "      <td>True</td>\n",
       "      <td>False</td>\n",
       "      <td>1978.0</td>\n",
       "      <td>NaN</td>\n",
       "      <td>NaN</td>\n",
       "      <td>NaN</td>\n",
       "      <td>NaN</td>\n",
       "      <td>NaN</td>\n",
       "      <td>False</td>\n",
       "      <td>True</td>\n",
       "      <td>NaN</td>\n",
       "      <td>NaN</td>\n",
       "      <td>NaN</td>\n",
       "      <td>NaN</td>\n",
       "      <td>NaN</td>\n",
       "      <td>NaN</td>\n",
       "      <td>NaN</td>\n",
       "      <td>NaN</td>\n",
       "      <td>NaN</td>\n",
       "      <td>en trámite</td>\n",
       "      <td>False</td>\n",
       "      <td>NaN</td>\n",
       "      <td>NaN</td>\n",
       "      <td>NaN</td>\n",
       "      <td>NaN</td>\n",
       "      <td>NaN</td>\n",
       "      <td>NaN</td>\n",
       "      <td>NaN</td>\n",
       "      <td>NaN</td>\n",
       "    </tr>\n",
       "  </tbody>\n",
       "</table>\n",
       "</div>"
      ],
      "text/plain": [
       "     Unnamed: 0     id                                     title  \\\n",
       "991         991  20751  Piso en venta en calle Canteras de Tilly   \n",
       "\n",
       "                                 subtitle  sq_mt_built  sq_mt_useful  n_rooms  \\\n",
       "991  Casco Histórico de Vicálvaro, Madrid         65.0           NaN        3   \n",
       "\n",
       "     n_bathrooms  n_floors  sq_mt_allotment  latitude  longitude  \\\n",
       "991          1.0       NaN              NaN       NaN        NaN   \n",
       "\n",
       "                 raw_address  is_exact_address_hidden  \\\n",
       "991  Calle Canteras de Tilly                     True   \n",
       "\n",
       "                 street_name street_number  portal floor is_floor_under  door  \\\n",
       "991  Calle Canteras de Tilly           NaN     NaN     1          False   NaN   \n",
       "\n",
       "                                       neighborhood_id operation  rent_price  \\\n",
       "991  Neighborhood 125: Casco Histórico de Vicálvaro...      sale         744   \n",
       "\n",
       "     rent_price_by_area  is_rent_price_known  buy_price  buy_price_by_area  \\\n",
       "991                 NaN                False     150000               2308   \n",
       "\n",
       "     is_buy_price_known       house_type_id  is_renewal_needed  \\\n",
       "991                True  HouseType 1: Pisos               True   \n",
       "\n",
       "    is_new_development  built_year has_central_heating has_individual_heating  \\\n",
       "991              False      1978.0                 NaN                    NaN   \n",
       "\n",
       "     are_pets_allowed has_ac has_fitted_wardrobes has_lift is_exterior  \\\n",
       "991               NaN    NaN                  NaN    False        True   \n",
       "\n",
       "    has_garden has_pool has_terrace has_balcony has_storage_room  \\\n",
       "991        NaN      NaN         NaN         NaN              NaN   \n",
       "\n",
       "     is_furnished  is_kitchen_equipped is_accessible has_green_zones  \\\n",
       "991           NaN                  NaN           NaN             NaN   \n",
       "\n",
       "    energy_certificate  has_parking  has_private_parking  has_public_parking  \\\n",
       "991         en trámite        False                  NaN                 NaN   \n",
       "\n",
       "    is_parking_included_in_price  parking_price is_orientation_north  \\\n",
       "991                          NaN            NaN                  NaN   \n",
       "\n",
       "    is_orientation_west is_orientation_south is_orientation_east  \n",
       "991                 NaN                  NaN                 NaN  "
      ]
     },
     "execution_count": 4,
     "metadata": {},
     "output_type": "execute_result"
    }
   ],
   "source": [
    "df.sample()"
   ]
  },
  {
   "cell_type": "code",
   "execution_count": 5,
   "id": "bb9abc9a",
   "metadata": {},
   "outputs": [
    {
     "name": "stdout",
     "output_type": "stream",
     "text": [
      "<class 'pandas.core.frame.DataFrame'>\n",
      "RangeIndex: 21742 entries, 0 to 21741\n",
      "Data columns (total 58 columns):\n",
      " #   Column                        Non-Null Count  Dtype  \n",
      "---  ------                        --------------  -----  \n",
      " 0   Unnamed: 0                    21742 non-null  int64  \n",
      " 1   id                            21742 non-null  int64  \n",
      " 2   title                         21742 non-null  object \n",
      " 3   subtitle                      21742 non-null  object \n",
      " 4   sq_mt_built                   21616 non-null  float64\n",
      " 5   sq_mt_useful                  8228 non-null   float64\n",
      " 6   n_rooms                       21742 non-null  int64  \n",
      " 7   n_bathrooms                   21726 non-null  float64\n",
      " 8   n_floors                      1437 non-null   float64\n",
      " 9   sq_mt_allotment               1432 non-null   float64\n",
      " 10  latitude                      0 non-null      float64\n",
      " 11  longitude                     0 non-null      float64\n",
      " 12  raw_address                   16277 non-null  object \n",
      " 13  is_exact_address_hidden       21742 non-null  bool   \n",
      " 14  street_name                   15837 non-null  object \n",
      " 15  street_number                 6300 non-null   object \n",
      " 16  portal                        0 non-null      float64\n",
      " 17  floor                         19135 non-null  object \n",
      " 18  is_floor_under                20572 non-null  object \n",
      " 19  door                          0 non-null      float64\n",
      " 20  neighborhood_id               21742 non-null  object \n",
      " 21  operation                     21742 non-null  object \n",
      " 22  rent_price                    21742 non-null  int64  \n",
      " 23  rent_price_by_area            0 non-null      float64\n",
      " 24  is_rent_price_known           21742 non-null  bool   \n",
      " 25  buy_price                     21742 non-null  int64  \n",
      " 26  buy_price_by_area             21742 non-null  int64  \n",
      " 27  is_buy_price_known            21742 non-null  bool   \n",
      " 28  house_type_id                 21351 non-null  object \n",
      " 29  is_renewal_needed             21742 non-null  bool   \n",
      " 30  is_new_development            20750 non-null  object \n",
      " 31  built_year                    10000 non-null  float64\n",
      " 32  has_central_heating           13608 non-null  object \n",
      " 33  has_individual_heating        13608 non-null  object \n",
      " 34  are_pets_allowed              0 non-null      float64\n",
      " 35  has_ac                        11211 non-null  object \n",
      " 36  has_fitted_wardrobes          13399 non-null  object \n",
      " 37  has_lift                      19356 non-null  object \n",
      " 38  is_exterior                   18699 non-null  object \n",
      " 39  has_garden                    1556 non-null   object \n",
      " 40  has_pool                      5171 non-null   object \n",
      " 41  has_terrace                   9548 non-null   object \n",
      " 42  has_balcony                   3321 non-null   object \n",
      " 43  has_storage_room              7698 non-null   object \n",
      " 44  is_furnished                  0 non-null      float64\n",
      " 45  is_kitchen_equipped           0 non-null      float64\n",
      " 46  is_accessible                 4074 non-null   object \n",
      " 47  has_green_zones               4057 non-null   object \n",
      " 48  energy_certificate            21742 non-null  object \n",
      " 49  has_parking                   21742 non-null  bool   \n",
      " 50  has_private_parking           0 non-null      float64\n",
      " 51  has_public_parking            0 non-null      float64\n",
      " 52  is_parking_included_in_price  7719 non-null   object \n",
      " 53  parking_price                 7719 non-null   float64\n",
      " 54  is_orientation_north          11358 non-null  object \n",
      " 55  is_orientation_west           11358 non-null  object \n",
      " 56  is_orientation_south          11358 non-null  object \n",
      " 57  is_orientation_east           11358 non-null  object \n",
      "dtypes: bool(5), float64(17), int64(6), object(30)\n",
      "memory usage: 8.9+ MB\n"
     ]
    }
   ],
   "source": [
    "df.info()"
   ]
  },
  {
   "cell_type": "code",
   "execution_count": 6,
   "id": "3e6508c9",
   "metadata": {},
   "outputs": [
    {
     "data": {
      "text/html": [
       "<div>\n",
       "<style scoped>\n",
       "    .dataframe tbody tr th:only-of-type {\n",
       "        vertical-align: middle;\n",
       "    }\n",
       "\n",
       "    .dataframe tbody tr th {\n",
       "        vertical-align: top;\n",
       "    }\n",
       "\n",
       "    .dataframe thead th {\n",
       "        text-align: right;\n",
       "    }\n",
       "</style>\n",
       "<table border=\"1\" class=\"dataframe\">\n",
       "  <thead>\n",
       "    <tr style=\"text-align: right;\">\n",
       "      <th></th>\n",
       "      <th>Unnamed: 0</th>\n",
       "      <th>id</th>\n",
       "      <th>title</th>\n",
       "      <th>subtitle</th>\n",
       "      <th>sq_mt_built</th>\n",
       "      <th>sq_mt_useful</th>\n",
       "      <th>n_rooms</th>\n",
       "      <th>n_bathrooms</th>\n",
       "      <th>n_floors</th>\n",
       "      <th>sq_mt_allotment</th>\n",
       "      <th>latitude</th>\n",
       "      <th>longitude</th>\n",
       "      <th>raw_address</th>\n",
       "      <th>is_exact_address_hidden</th>\n",
       "      <th>street_name</th>\n",
       "      <th>street_number</th>\n",
       "      <th>portal</th>\n",
       "      <th>floor</th>\n",
       "      <th>is_floor_under</th>\n",
       "      <th>door</th>\n",
       "      <th>neighborhood_id</th>\n",
       "      <th>operation</th>\n",
       "      <th>rent_price</th>\n",
       "      <th>rent_price_by_area</th>\n",
       "      <th>is_rent_price_known</th>\n",
       "      <th>buy_price</th>\n",
       "      <th>buy_price_by_area</th>\n",
       "      <th>is_buy_price_known</th>\n",
       "      <th>house_type_id</th>\n",
       "      <th>is_renewal_needed</th>\n",
       "      <th>is_new_development</th>\n",
       "      <th>built_year</th>\n",
       "      <th>has_central_heating</th>\n",
       "      <th>has_individual_heating</th>\n",
       "      <th>are_pets_allowed</th>\n",
       "      <th>has_ac</th>\n",
       "      <th>has_fitted_wardrobes</th>\n",
       "      <th>has_lift</th>\n",
       "      <th>is_exterior</th>\n",
       "      <th>has_garden</th>\n",
       "      <th>has_pool</th>\n",
       "      <th>has_terrace</th>\n",
       "      <th>has_balcony</th>\n",
       "      <th>has_storage_room</th>\n",
       "      <th>is_furnished</th>\n",
       "      <th>is_kitchen_equipped</th>\n",
       "      <th>is_accessible</th>\n",
       "      <th>has_green_zones</th>\n",
       "      <th>energy_certificate</th>\n",
       "      <th>has_parking</th>\n",
       "      <th>has_private_parking</th>\n",
       "      <th>has_public_parking</th>\n",
       "      <th>is_parking_included_in_price</th>\n",
       "      <th>parking_price</th>\n",
       "      <th>is_orientation_north</th>\n",
       "      <th>is_orientation_west</th>\n",
       "      <th>is_orientation_south</th>\n",
       "      <th>is_orientation_east</th>\n",
       "    </tr>\n",
       "  </thead>\n",
       "  <tbody>\n",
       "    <tr>\n",
       "      <th>0</th>\n",
       "      <td>0</td>\n",
       "      <td>21742</td>\n",
       "      <td>Piso en venta en calle de Godella, 64</td>\n",
       "      <td>San Cristóbal, Madrid</td>\n",
       "      <td>64.0</td>\n",
       "      <td>60.0</td>\n",
       "      <td>2</td>\n",
       "      <td>1.0</td>\n",
       "      <td>NaN</td>\n",
       "      <td>NaN</td>\n",
       "      <td>NaN</td>\n",
       "      <td>NaN</td>\n",
       "      <td>Calle de Godella, 64</td>\n",
       "      <td>False</td>\n",
       "      <td>Calle de Godella</td>\n",
       "      <td>64</td>\n",
       "      <td>NaN</td>\n",
       "      <td>3</td>\n",
       "      <td>False</td>\n",
       "      <td>NaN</td>\n",
       "      <td>Neighborhood 135: San Cristóbal (1308.89 €/m2)...</td>\n",
       "      <td>sale</td>\n",
       "      <td>471</td>\n",
       "      <td>NaN</td>\n",
       "      <td>False</td>\n",
       "      <td>85000</td>\n",
       "      <td>1328</td>\n",
       "      <td>True</td>\n",
       "      <td>HouseType 1: Pisos</td>\n",
       "      <td>False</td>\n",
       "      <td>False</td>\n",
       "      <td>1960.0</td>\n",
       "      <td>NaN</td>\n",
       "      <td>NaN</td>\n",
       "      <td>NaN</td>\n",
       "      <td>True</td>\n",
       "      <td>NaN</td>\n",
       "      <td>False</td>\n",
       "      <td>True</td>\n",
       "      <td>NaN</td>\n",
       "      <td>NaN</td>\n",
       "      <td>NaN</td>\n",
       "      <td>NaN</td>\n",
       "      <td>NaN</td>\n",
       "      <td>NaN</td>\n",
       "      <td>NaN</td>\n",
       "      <td>NaN</td>\n",
       "      <td>NaN</td>\n",
       "      <td>D</td>\n",
       "      <td>False</td>\n",
       "      <td>NaN</td>\n",
       "      <td>NaN</td>\n",
       "      <td>NaN</td>\n",
       "      <td>NaN</td>\n",
       "      <td>False</td>\n",
       "      <td>True</td>\n",
       "      <td>False</td>\n",
       "      <td>False</td>\n",
       "    </tr>\n",
       "    <tr>\n",
       "      <th>1</th>\n",
       "      <td>1</td>\n",
       "      <td>21741</td>\n",
       "      <td>Piso en venta en calle de la del Manojo de Rosas</td>\n",
       "      <td>Los Ángeles, Madrid</td>\n",
       "      <td>70.0</td>\n",
       "      <td>NaN</td>\n",
       "      <td>3</td>\n",
       "      <td>1.0</td>\n",
       "      <td>NaN</td>\n",
       "      <td>NaN</td>\n",
       "      <td>NaN</td>\n",
       "      <td>NaN</td>\n",
       "      <td>Calle de la del Manojo de Rosas</td>\n",
       "      <td>True</td>\n",
       "      <td>Calle de la del Manojo de Rosas</td>\n",
       "      <td>NaN</td>\n",
       "      <td>NaN</td>\n",
       "      <td>4</td>\n",
       "      <td>False</td>\n",
       "      <td>NaN</td>\n",
       "      <td>Neighborhood 132: Los Ángeles (1796.68 €/m2) -...</td>\n",
       "      <td>sale</td>\n",
       "      <td>666</td>\n",
       "      <td>NaN</td>\n",
       "      <td>False</td>\n",
       "      <td>129900</td>\n",
       "      <td>1856</td>\n",
       "      <td>True</td>\n",
       "      <td>HouseType 1: Pisos</td>\n",
       "      <td>True</td>\n",
       "      <td>False</td>\n",
       "      <td>NaN</td>\n",
       "      <td>NaN</td>\n",
       "      <td>NaN</td>\n",
       "      <td>NaN</td>\n",
       "      <td>NaN</td>\n",
       "      <td>True</td>\n",
       "      <td>True</td>\n",
       "      <td>True</td>\n",
       "      <td>NaN</td>\n",
       "      <td>NaN</td>\n",
       "      <td>True</td>\n",
       "      <td>NaN</td>\n",
       "      <td>NaN</td>\n",
       "      <td>NaN</td>\n",
       "      <td>NaN</td>\n",
       "      <td>NaN</td>\n",
       "      <td>NaN</td>\n",
       "      <td>en trámite</td>\n",
       "      <td>False</td>\n",
       "      <td>NaN</td>\n",
       "      <td>NaN</td>\n",
       "      <td>NaN</td>\n",
       "      <td>NaN</td>\n",
       "      <td>NaN</td>\n",
       "      <td>NaN</td>\n",
       "      <td>NaN</td>\n",
       "      <td>NaN</td>\n",
       "    </tr>\n",
       "    <tr>\n",
       "      <th>2</th>\n",
       "      <td>2</td>\n",
       "      <td>21740</td>\n",
       "      <td>Piso en venta en calle del Talco, 68</td>\n",
       "      <td>San Andrés, Madrid</td>\n",
       "      <td>94.0</td>\n",
       "      <td>54.0</td>\n",
       "      <td>2</td>\n",
       "      <td>2.0</td>\n",
       "      <td>NaN</td>\n",
       "      <td>NaN</td>\n",
       "      <td>NaN</td>\n",
       "      <td>NaN</td>\n",
       "      <td>Calle del Talco, 68</td>\n",
       "      <td>False</td>\n",
       "      <td>Calle del Talco</td>\n",
       "      <td>68</td>\n",
       "      <td>NaN</td>\n",
       "      <td>1</td>\n",
       "      <td>False</td>\n",
       "      <td>NaN</td>\n",
       "      <td>Neighborhood 134: San Andrés (1617.18 €/m2) - ...</td>\n",
       "      <td>sale</td>\n",
       "      <td>722</td>\n",
       "      <td>NaN</td>\n",
       "      <td>False</td>\n",
       "      <td>144247</td>\n",
       "      <td>1535</td>\n",
       "      <td>True</td>\n",
       "      <td>HouseType 1: Pisos</td>\n",
       "      <td>False</td>\n",
       "      <td>False</td>\n",
       "      <td>NaN</td>\n",
       "      <td>False</td>\n",
       "      <td>True</td>\n",
       "      <td>NaN</td>\n",
       "      <td>NaN</td>\n",
       "      <td>True</td>\n",
       "      <td>True</td>\n",
       "      <td>True</td>\n",
       "      <td>NaN</td>\n",
       "      <td>NaN</td>\n",
       "      <td>NaN</td>\n",
       "      <td>NaN</td>\n",
       "      <td>True</td>\n",
       "      <td>NaN</td>\n",
       "      <td>NaN</td>\n",
       "      <td>NaN</td>\n",
       "      <td>NaN</td>\n",
       "      <td>no indicado</td>\n",
       "      <td>False</td>\n",
       "      <td>NaN</td>\n",
       "      <td>NaN</td>\n",
       "      <td>NaN</td>\n",
       "      <td>NaN</td>\n",
       "      <td>NaN</td>\n",
       "      <td>NaN</td>\n",
       "      <td>NaN</td>\n",
       "      <td>NaN</td>\n",
       "    </tr>\n",
       "    <tr>\n",
       "      <th>3</th>\n",
       "      <td>3</td>\n",
       "      <td>21739</td>\n",
       "      <td>Piso en venta en calle Pedro Jiménez</td>\n",
       "      <td>San Andrés, Madrid</td>\n",
       "      <td>64.0</td>\n",
       "      <td>NaN</td>\n",
       "      <td>2</td>\n",
       "      <td>1.0</td>\n",
       "      <td>NaN</td>\n",
       "      <td>NaN</td>\n",
       "      <td>NaN</td>\n",
       "      <td>NaN</td>\n",
       "      <td>Calle Pedro Jiménez</td>\n",
       "      <td>True</td>\n",
       "      <td>Calle Pedro Jiménez</td>\n",
       "      <td>NaN</td>\n",
       "      <td>NaN</td>\n",
       "      <td>Bajo</td>\n",
       "      <td>True</td>\n",
       "      <td>NaN</td>\n",
       "      <td>Neighborhood 134: San Andrés (1617.18 €/m2) - ...</td>\n",
       "      <td>sale</td>\n",
       "      <td>583</td>\n",
       "      <td>NaN</td>\n",
       "      <td>False</td>\n",
       "      <td>109900</td>\n",
       "      <td>1717</td>\n",
       "      <td>True</td>\n",
       "      <td>HouseType 1: Pisos</td>\n",
       "      <td>False</td>\n",
       "      <td>False</td>\n",
       "      <td>1955.0</td>\n",
       "      <td>NaN</td>\n",
       "      <td>NaN</td>\n",
       "      <td>NaN</td>\n",
       "      <td>NaN</td>\n",
       "      <td>NaN</td>\n",
       "      <td>True</td>\n",
       "      <td>True</td>\n",
       "      <td>NaN</td>\n",
       "      <td>NaN</td>\n",
       "      <td>NaN</td>\n",
       "      <td>NaN</td>\n",
       "      <td>True</td>\n",
       "      <td>NaN</td>\n",
       "      <td>NaN</td>\n",
       "      <td>True</td>\n",
       "      <td>NaN</td>\n",
       "      <td>en trámite</td>\n",
       "      <td>False</td>\n",
       "      <td>NaN</td>\n",
       "      <td>NaN</td>\n",
       "      <td>NaN</td>\n",
       "      <td>NaN</td>\n",
       "      <td>False</td>\n",
       "      <td>False</td>\n",
       "      <td>True</td>\n",
       "      <td>False</td>\n",
       "    </tr>\n",
       "    <tr>\n",
       "      <th>4</th>\n",
       "      <td>4</td>\n",
       "      <td>21738</td>\n",
       "      <td>Piso en venta en carretera de Villaverde a Val...</td>\n",
       "      <td>Los Rosales, Madrid</td>\n",
       "      <td>108.0</td>\n",
       "      <td>90.0</td>\n",
       "      <td>2</td>\n",
       "      <td>2.0</td>\n",
       "      <td>NaN</td>\n",
       "      <td>NaN</td>\n",
       "      <td>NaN</td>\n",
       "      <td>NaN</td>\n",
       "      <td>Carretera de Villaverde a Vallecas</td>\n",
       "      <td>True</td>\n",
       "      <td>Carretera de Villaverde a Vallecas</td>\n",
       "      <td>NaN</td>\n",
       "      <td>NaN</td>\n",
       "      <td>4</td>\n",
       "      <td>False</td>\n",
       "      <td>NaN</td>\n",
       "      <td>Neighborhood 133: Los Rosales (1827.79 €/m2) -...</td>\n",
       "      <td>sale</td>\n",
       "      <td>1094</td>\n",
       "      <td>NaN</td>\n",
       "      <td>False</td>\n",
       "      <td>260000</td>\n",
       "      <td>2407</td>\n",
       "      <td>True</td>\n",
       "      <td>HouseType 1: Pisos</td>\n",
       "      <td>False</td>\n",
       "      <td>False</td>\n",
       "      <td>2003.0</td>\n",
       "      <td>NaN</td>\n",
       "      <td>NaN</td>\n",
       "      <td>NaN</td>\n",
       "      <td>True</td>\n",
       "      <td>True</td>\n",
       "      <td>True</td>\n",
       "      <td>True</td>\n",
       "      <td>NaN</td>\n",
       "      <td>True</td>\n",
       "      <td>NaN</td>\n",
       "      <td>NaN</td>\n",
       "      <td>True</td>\n",
       "      <td>NaN</td>\n",
       "      <td>NaN</td>\n",
       "      <td>NaN</td>\n",
       "      <td>True</td>\n",
       "      <td>en trámite</td>\n",
       "      <td>True</td>\n",
       "      <td>NaN</td>\n",
       "      <td>NaN</td>\n",
       "      <td>True</td>\n",
       "      <td>0.0</td>\n",
       "      <td>True</td>\n",
       "      <td>True</td>\n",
       "      <td>True</td>\n",
       "      <td>True</td>\n",
       "    </tr>\n",
       "  </tbody>\n",
       "</table>\n",
       "</div>"
      ],
      "text/plain": [
       "   Unnamed: 0     id                                              title  \\\n",
       "0           0  21742              Piso en venta en calle de Godella, 64   \n",
       "1           1  21741   Piso en venta en calle de la del Manojo de Rosas   \n",
       "2           2  21740               Piso en venta en calle del Talco, 68   \n",
       "3           3  21739               Piso en venta en calle Pedro Jiménez   \n",
       "4           4  21738  Piso en venta en carretera de Villaverde a Val...   \n",
       "\n",
       "                subtitle  sq_mt_built  sq_mt_useful  n_rooms  n_bathrooms  \\\n",
       "0  San Cristóbal, Madrid         64.0          60.0        2          1.0   \n",
       "1    Los Ángeles, Madrid         70.0           NaN        3          1.0   \n",
       "2     San Andrés, Madrid         94.0          54.0        2          2.0   \n",
       "3     San Andrés, Madrid         64.0           NaN        2          1.0   \n",
       "4    Los Rosales, Madrid        108.0          90.0        2          2.0   \n",
       "\n",
       "   n_floors  sq_mt_allotment  latitude  longitude  \\\n",
       "0       NaN              NaN       NaN        NaN   \n",
       "1       NaN              NaN       NaN        NaN   \n",
       "2       NaN              NaN       NaN        NaN   \n",
       "3       NaN              NaN       NaN        NaN   \n",
       "4       NaN              NaN       NaN        NaN   \n",
       "\n",
       "                          raw_address  is_exact_address_hidden  \\\n",
       "0                Calle de Godella, 64                    False   \n",
       "1     Calle de la del Manojo de Rosas                     True   \n",
       "2                 Calle del Talco, 68                    False   \n",
       "3                 Calle Pedro Jiménez                     True   \n",
       "4  Carretera de Villaverde a Vallecas                     True   \n",
       "\n",
       "                          street_name street_number  portal floor  \\\n",
       "0                    Calle de Godella            64     NaN     3   \n",
       "1     Calle de la del Manojo de Rosas           NaN     NaN     4   \n",
       "2                     Calle del Talco            68     NaN     1   \n",
       "3                 Calle Pedro Jiménez           NaN     NaN  Bajo   \n",
       "4  Carretera de Villaverde a Vallecas           NaN     NaN     4   \n",
       "\n",
       "  is_floor_under  door                                    neighborhood_id  \\\n",
       "0          False   NaN  Neighborhood 135: San Cristóbal (1308.89 €/m2)...   \n",
       "1          False   NaN  Neighborhood 132: Los Ángeles (1796.68 €/m2) -...   \n",
       "2          False   NaN  Neighborhood 134: San Andrés (1617.18 €/m2) - ...   \n",
       "3           True   NaN  Neighborhood 134: San Andrés (1617.18 €/m2) - ...   \n",
       "4          False   NaN  Neighborhood 133: Los Rosales (1827.79 €/m2) -...   \n",
       "\n",
       "  operation  rent_price  rent_price_by_area  is_rent_price_known  buy_price  \\\n",
       "0      sale         471                 NaN                False      85000   \n",
       "1      sale         666                 NaN                False     129900   \n",
       "2      sale         722                 NaN                False     144247   \n",
       "3      sale         583                 NaN                False     109900   \n",
       "4      sale        1094                 NaN                False     260000   \n",
       "\n",
       "   buy_price_by_area  is_buy_price_known       house_type_id  \\\n",
       "0               1328                True  HouseType 1: Pisos   \n",
       "1               1856                True  HouseType 1: Pisos   \n",
       "2               1535                True  HouseType 1: Pisos   \n",
       "3               1717                True  HouseType 1: Pisos   \n",
       "4               2407                True  HouseType 1: Pisos   \n",
       "\n",
       "   is_renewal_needed is_new_development  built_year has_central_heating  \\\n",
       "0              False              False      1960.0                 NaN   \n",
       "1               True              False         NaN                 NaN   \n",
       "2              False              False         NaN               False   \n",
       "3              False              False      1955.0                 NaN   \n",
       "4              False              False      2003.0                 NaN   \n",
       "\n",
       "  has_individual_heating  are_pets_allowed has_ac has_fitted_wardrobes  \\\n",
       "0                    NaN               NaN   True                  NaN   \n",
       "1                    NaN               NaN    NaN                 True   \n",
       "2                   True               NaN    NaN                 True   \n",
       "3                    NaN               NaN    NaN                  NaN   \n",
       "4                    NaN               NaN   True                 True   \n",
       "\n",
       "  has_lift is_exterior has_garden has_pool has_terrace has_balcony  \\\n",
       "0    False        True        NaN      NaN         NaN         NaN   \n",
       "1     True        True        NaN      NaN        True         NaN   \n",
       "2     True        True        NaN      NaN         NaN         NaN   \n",
       "3     True        True        NaN      NaN         NaN         NaN   \n",
       "4     True        True        NaN     True         NaN         NaN   \n",
       "\n",
       "  has_storage_room  is_furnished  is_kitchen_equipped is_accessible  \\\n",
       "0              NaN           NaN                  NaN           NaN   \n",
       "1              NaN           NaN                  NaN           NaN   \n",
       "2             True           NaN                  NaN           NaN   \n",
       "3             True           NaN                  NaN          True   \n",
       "4             True           NaN                  NaN           NaN   \n",
       "\n",
       "  has_green_zones energy_certificate  has_parking  has_private_parking  \\\n",
       "0             NaN                  D        False                  NaN   \n",
       "1             NaN         en trámite        False                  NaN   \n",
       "2             NaN        no indicado        False                  NaN   \n",
       "3             NaN         en trámite        False                  NaN   \n",
       "4            True         en trámite         True                  NaN   \n",
       "\n",
       "   has_public_parking is_parking_included_in_price  parking_price  \\\n",
       "0                 NaN                          NaN            NaN   \n",
       "1                 NaN                          NaN            NaN   \n",
       "2                 NaN                          NaN            NaN   \n",
       "3                 NaN                          NaN            NaN   \n",
       "4                 NaN                         True            0.0   \n",
       "\n",
       "  is_orientation_north is_orientation_west is_orientation_south  \\\n",
       "0                False                True                False   \n",
       "1                  NaN                 NaN                  NaN   \n",
       "2                  NaN                 NaN                  NaN   \n",
       "3                False               False                 True   \n",
       "4                 True                True                 True   \n",
       "\n",
       "  is_orientation_east  \n",
       "0               False  \n",
       "1                 NaN  \n",
       "2                 NaN  \n",
       "3               False  \n",
       "4                True  "
      ]
     },
     "execution_count": 6,
     "metadata": {},
     "output_type": "execute_result"
    }
   ],
   "source": [
    "df.head()"
   ]
  },
  {
   "cell_type": "code",
   "execution_count": 7,
   "id": "8923997b",
   "metadata": {},
   "outputs": [
    {
     "data": {
      "text/plain": [
       "count    21742.000000\n",
       "mean      4020.523871\n",
       "std       1908.418774\n",
       "min        447.000000\n",
       "25%       2551.000000\n",
       "50%       3720.000000\n",
       "75%       5000.000000\n",
       "max      18889.000000\n",
       "Name: buy_price_by_area, dtype: float64"
      ]
     },
     "execution_count": 7,
     "metadata": {},
     "output_type": "execute_result"
    }
   ],
   "source": [
    "df.buy_price_by_area.describe()"
   ]
  },
  {
   "cell_type": "code",
   "execution_count": 8,
   "id": "8238cab5",
   "metadata": {},
   "outputs": [],
   "source": [
    "df = df.filter([\"sq_mt_built\",'buy_price',\"n_rooms\",\"n_bathrooms\",\"has_parking\",\"built_year\",'is_orientation_south',\"has_lift\",'has_central_heating'])"
   ]
  },
  {
   "cell_type": "code",
   "execution_count": 9,
   "id": "93ccba7e",
   "metadata": {},
   "outputs": [
    {
     "data": {
      "text/html": [
       "<div>\n",
       "<style scoped>\n",
       "    .dataframe tbody tr th:only-of-type {\n",
       "        vertical-align: middle;\n",
       "    }\n",
       "\n",
       "    .dataframe tbody tr th {\n",
       "        vertical-align: top;\n",
       "    }\n",
       "\n",
       "    .dataframe thead th {\n",
       "        text-align: right;\n",
       "    }\n",
       "</style>\n",
       "<table border=\"1\" class=\"dataframe\">\n",
       "  <thead>\n",
       "    <tr style=\"text-align: right;\">\n",
       "      <th></th>\n",
       "      <th>sq_mt_built</th>\n",
       "      <th>buy_price</th>\n",
       "      <th>n_rooms</th>\n",
       "      <th>n_bathrooms</th>\n",
       "      <th>has_parking</th>\n",
       "      <th>built_year</th>\n",
       "      <th>is_orientation_south</th>\n",
       "      <th>has_lift</th>\n",
       "      <th>has_central_heating</th>\n",
       "    </tr>\n",
       "  </thead>\n",
       "  <tbody>\n",
       "    <tr>\n",
       "      <th>0</th>\n",
       "      <td>64.0</td>\n",
       "      <td>85000</td>\n",
       "      <td>2</td>\n",
       "      <td>1.0</td>\n",
       "      <td>False</td>\n",
       "      <td>1960.0</td>\n",
       "      <td>False</td>\n",
       "      <td>False</td>\n",
       "      <td>NaN</td>\n",
       "    </tr>\n",
       "    <tr>\n",
       "      <th>1</th>\n",
       "      <td>70.0</td>\n",
       "      <td>129900</td>\n",
       "      <td>3</td>\n",
       "      <td>1.0</td>\n",
       "      <td>False</td>\n",
       "      <td>NaN</td>\n",
       "      <td>NaN</td>\n",
       "      <td>True</td>\n",
       "      <td>NaN</td>\n",
       "    </tr>\n",
       "    <tr>\n",
       "      <th>2</th>\n",
       "      <td>94.0</td>\n",
       "      <td>144247</td>\n",
       "      <td>2</td>\n",
       "      <td>2.0</td>\n",
       "      <td>False</td>\n",
       "      <td>NaN</td>\n",
       "      <td>NaN</td>\n",
       "      <td>True</td>\n",
       "      <td>False</td>\n",
       "    </tr>\n",
       "    <tr>\n",
       "      <th>3</th>\n",
       "      <td>64.0</td>\n",
       "      <td>109900</td>\n",
       "      <td>2</td>\n",
       "      <td>1.0</td>\n",
       "      <td>False</td>\n",
       "      <td>1955.0</td>\n",
       "      <td>True</td>\n",
       "      <td>True</td>\n",
       "      <td>NaN</td>\n",
       "    </tr>\n",
       "    <tr>\n",
       "      <th>4</th>\n",
       "      <td>108.0</td>\n",
       "      <td>260000</td>\n",
       "      <td>2</td>\n",
       "      <td>2.0</td>\n",
       "      <td>True</td>\n",
       "      <td>2003.0</td>\n",
       "      <td>True</td>\n",
       "      <td>True</td>\n",
       "      <td>NaN</td>\n",
       "    </tr>\n",
       "  </tbody>\n",
       "</table>\n",
       "</div>"
      ],
      "text/plain": [
       "   sq_mt_built  buy_price  n_rooms  n_bathrooms  has_parking  built_year  \\\n",
       "0         64.0      85000        2          1.0        False      1960.0   \n",
       "1         70.0     129900        3          1.0        False         NaN   \n",
       "2         94.0     144247        2          2.0        False         NaN   \n",
       "3         64.0     109900        2          1.0        False      1955.0   \n",
       "4        108.0     260000        2          2.0         True      2003.0   \n",
       "\n",
       "  is_orientation_south has_lift has_central_heating  \n",
       "0                False    False                 NaN  \n",
       "1                  NaN     True                 NaN  \n",
       "2                  NaN     True               False  \n",
       "3                 True     True                 NaN  \n",
       "4                 True     True                 NaN  "
      ]
     },
     "execution_count": 9,
     "metadata": {},
     "output_type": "execute_result"
    }
   ],
   "source": [
    "df.head()"
   ]
  },
  {
   "cell_type": "code",
   "execution_count": 10,
   "id": "5469a502",
   "metadata": {},
   "outputs": [],
   "source": [
    "df = df.dropna()"
   ]
  },
  {
   "cell_type": "code",
   "execution_count": 11,
   "id": "78d95d13",
   "metadata": {},
   "outputs": [
    {
     "data": {
      "text/plain": [
       "sq_mt_built             0\n",
       "buy_price               0\n",
       "n_rooms                 0\n",
       "n_bathrooms             0\n",
       "has_parking             0\n",
       "built_year              0\n",
       "is_orientation_south    0\n",
       "has_lift                0\n",
       "has_central_heating     0\n",
       "dtype: int64"
      ]
     },
     "execution_count": 11,
     "metadata": {},
     "output_type": "execute_result"
    }
   ],
   "source": [
    "df.isnull().sum()"
   ]
  },
  {
   "cell_type": "code",
   "execution_count": 12,
   "id": "99beed24",
   "metadata": {},
   "outputs": [
    {
     "data": {
      "text/html": [
       "<div>\n",
       "<style scoped>\n",
       "    .dataframe tbody tr th:only-of-type {\n",
       "        vertical-align: middle;\n",
       "    }\n",
       "\n",
       "    .dataframe tbody tr th {\n",
       "        vertical-align: top;\n",
       "    }\n",
       "\n",
       "    .dataframe thead th {\n",
       "        text-align: right;\n",
       "    }\n",
       "</style>\n",
       "<table border=\"1\" class=\"dataframe\">\n",
       "  <thead>\n",
       "    <tr style=\"text-align: right;\">\n",
       "      <th></th>\n",
       "      <th>sq_mt_built</th>\n",
       "      <th>buy_price</th>\n",
       "      <th>n_rooms</th>\n",
       "      <th>n_bathrooms</th>\n",
       "      <th>has_parking</th>\n",
       "      <th>built_year</th>\n",
       "      <th>is_orientation_south</th>\n",
       "      <th>has_lift</th>\n",
       "      <th>has_central_heating</th>\n",
       "    </tr>\n",
       "  </thead>\n",
       "  <tbody>\n",
       "    <tr>\n",
       "      <th>9800</th>\n",
       "      <td>100.0</td>\n",
       "      <td>300000</td>\n",
       "      <td>3</td>\n",
       "      <td>2.0</td>\n",
       "      <td>True</td>\n",
       "      <td>1985.0</td>\n",
       "      <td>True</td>\n",
       "      <td>True</td>\n",
       "      <td>False</td>\n",
       "    </tr>\n",
       "    <tr>\n",
       "      <th>8847</th>\n",
       "      <td>210.0</td>\n",
       "      <td>790000</td>\n",
       "      <td>5</td>\n",
       "      <td>3.0</td>\n",
       "      <td>True</td>\n",
       "      <td>1985.0</td>\n",
       "      <td>True</td>\n",
       "      <td>True</td>\n",
       "      <td>True</td>\n",
       "    </tr>\n",
       "    <tr>\n",
       "      <th>9297</th>\n",
       "      <td>245.0</td>\n",
       "      <td>765000</td>\n",
       "      <td>5</td>\n",
       "      <td>3.0</td>\n",
       "      <td>True</td>\n",
       "      <td>1974.0</td>\n",
       "      <td>True</td>\n",
       "      <td>True</td>\n",
       "      <td>True</td>\n",
       "    </tr>\n",
       "    <tr>\n",
       "      <th>4108</th>\n",
       "      <td>192.0</td>\n",
       "      <td>650000</td>\n",
       "      <td>4</td>\n",
       "      <td>3.0</td>\n",
       "      <td>True</td>\n",
       "      <td>1970.0</td>\n",
       "      <td>False</td>\n",
       "      <td>True</td>\n",
       "      <td>True</td>\n",
       "    </tr>\n",
       "    <tr>\n",
       "      <th>18439</th>\n",
       "      <td>123.0</td>\n",
       "      <td>749000</td>\n",
       "      <td>2</td>\n",
       "      <td>2.0</td>\n",
       "      <td>False</td>\n",
       "      <td>1900.0</td>\n",
       "      <td>True</td>\n",
       "      <td>True</td>\n",
       "      <td>False</td>\n",
       "    </tr>\n",
       "    <tr>\n",
       "      <th>8239</th>\n",
       "      <td>60.0</td>\n",
       "      <td>345000</td>\n",
       "      <td>1</td>\n",
       "      <td>1.0</td>\n",
       "      <td>True</td>\n",
       "      <td>2004.0</td>\n",
       "      <td>False</td>\n",
       "      <td>True</td>\n",
       "      <td>False</td>\n",
       "    </tr>\n",
       "    <tr>\n",
       "      <th>11182</th>\n",
       "      <td>109.0</td>\n",
       "      <td>599000</td>\n",
       "      <td>2</td>\n",
       "      <td>2.0</td>\n",
       "      <td>False</td>\n",
       "      <td>1962.0</td>\n",
       "      <td>True</td>\n",
       "      <td>True</td>\n",
       "      <td>False</td>\n",
       "    </tr>\n",
       "    <tr>\n",
       "      <th>12249</th>\n",
       "      <td>225.0</td>\n",
       "      <td>750000</td>\n",
       "      <td>5</td>\n",
       "      <td>3.0</td>\n",
       "      <td>False</td>\n",
       "      <td>1964.0</td>\n",
       "      <td>True</td>\n",
       "      <td>True</td>\n",
       "      <td>True</td>\n",
       "    </tr>\n",
       "    <tr>\n",
       "      <th>13045</th>\n",
       "      <td>92.0</td>\n",
       "      <td>175000</td>\n",
       "      <td>3</td>\n",
       "      <td>1.0</td>\n",
       "      <td>False</td>\n",
       "      <td>1970.0</td>\n",
       "      <td>True</td>\n",
       "      <td>False</td>\n",
       "      <td>False</td>\n",
       "    </tr>\n",
       "    <tr>\n",
       "      <th>7836</th>\n",
       "      <td>121.0</td>\n",
       "      <td>375000</td>\n",
       "      <td>3</td>\n",
       "      <td>1.0</td>\n",
       "      <td>False</td>\n",
       "      <td>1962.0</td>\n",
       "      <td>False</td>\n",
       "      <td>True</td>\n",
       "      <td>False</td>\n",
       "    </tr>\n",
       "  </tbody>\n",
       "</table>\n",
       "</div>"
      ],
      "text/plain": [
       "       sq_mt_built  buy_price  n_rooms  n_bathrooms  has_parking  built_year  \\\n",
       "9800         100.0     300000        3          2.0         True      1985.0   \n",
       "8847         210.0     790000        5          3.0         True      1985.0   \n",
       "9297         245.0     765000        5          3.0         True      1974.0   \n",
       "4108         192.0     650000        4          3.0         True      1970.0   \n",
       "18439        123.0     749000        2          2.0        False      1900.0   \n",
       "8239          60.0     345000        1          1.0         True      2004.0   \n",
       "11182        109.0     599000        2          2.0        False      1962.0   \n",
       "12249        225.0     750000        5          3.0        False      1964.0   \n",
       "13045         92.0     175000        3          1.0        False      1970.0   \n",
       "7836         121.0     375000        3          1.0        False      1962.0   \n",
       "\n",
       "      is_orientation_south has_lift has_central_heating  \n",
       "9800                  True     True               False  \n",
       "8847                  True     True                True  \n",
       "9297                  True     True                True  \n",
       "4108                 False     True                True  \n",
       "18439                 True     True               False  \n",
       "8239                 False     True               False  \n",
       "11182                 True     True               False  \n",
       "12249                 True     True                True  \n",
       "13045                 True    False               False  \n",
       "7836                 False     True               False  "
      ]
     },
     "execution_count": 12,
     "metadata": {},
     "output_type": "execute_result"
    }
   ],
   "source": [
    "df.sample(10)"
   ]
  },
  {
   "cell_type": "code",
   "execution_count": 13,
   "id": "c07c96d3",
   "metadata": {},
   "outputs": [
    {
     "data": {
      "image/png": "[encoded data removed]",
      "text/plain": [
       "<Figure size 432x288 with 1 Axes>"
      ]
     },
     "metadata": {},
     "output_type": "display_data"
    }
   ],
   "source": [
    "building_types = df['n_rooms'].value_counts()\n",
    "plt.pie(building_types.values, labels=building_types.index, autopct='%1.1f%%')\n",
    "plt.title('Number of rooms')\n",
    "plt.show()"
   ]
  },
  {
   "cell_type": "code",
   "execution_count": 14,
   "id": "accb0013",
   "metadata": {},
   "outputs": [
    {
     "data": {
      "image/png": "[encoded data removed]",
      "text/plain": [
       "<Figure size 432x288 with 1 Axes>"
      ]
     },
     "metadata": {},
     "output_type": "display_data"
    }
   ],
   "source": [
    "building_types = df['has_parking'].value_counts()\n",
    "plt.pie(building_types.values, labels=building_types.index, autopct='%1.1f%%')\n",
    "plt.title('Has parking')\n",
    "plt.show()"
   ]
  },
  {
   "cell_type": "code",
   "execution_count": 15,
   "id": "8f28ed5c",
   "metadata": {},
   "outputs": [
    {
     "data": {
      "image/png": "[encoded data removed]",
      "text/plain": [
       "<Figure size 432x288 with 1 Axes>"
      ]
     },
     "metadata": {},
     "output_type": "display_data"
    }
   ],
   "source": [
    "building_types = df['has_lift'].value_counts()\n",
    "plt.pie(building_types.values, labels=building_types.index, autopct='%1.1f%%')\n",
    "plt.title('Percentage of existing lift')\n",
    "plt.show()"
   ]
  },
  {
   "cell_type": "code",
   "execution_count": 16,
   "id": "5778acb0",
   "metadata": {},
   "outputs": [
    {
     "data": {
      "image/png": "[encoded data removed]",
      "text/plain": [
       "<Figure size 432x288 with 1 Axes>"
      ]
     },
     "metadata": {},
     "output_type": "display_data"
    }
   ],
   "source": [
    "building_types = df['has_central_heating'].value_counts()\n",
    "plt.pie(building_types.values, labels=building_types.index, autopct='%1.1f%%')\n",
    "plt.title('Existince of central heating')\n",
    "plt.show()"
   ]
  },
  {
   "cell_type": "code",
   "execution_count": 17,
   "id": "2b29be2e",
   "metadata": {},
   "outputs": [
    {
     "data": {
      "image/png": "[encoded data removed]",
      "text/plain": [
       "<Figure size 432x288 with 1 Axes>"
      ]
     },
     "metadata": {
      "needs_background": "light"
     },
     "output_type": "display_data"
    }
   ],
   "source": [
    "avg_prices = df.groupby(by='buy_price')['built_year'].mean()\n",
    "plt.hist(avg_prices.values, bins=10)\n",
    "plt.xlabel('Built year')\n",
    "plt.ylabel('Euro')\n",
    "plt.title('Average Price by built year')\n",
    "plt.show()"
   ]
  },
  {
   "cell_type": "code",
   "execution_count": 18,
   "id": "9d2944f3",
   "metadata": {},
   "outputs": [
    {
     "name": "stdout",
     "output_type": "stream",
     "text": [
      "1960.0    266\n",
      "1970.0    264\n",
      "1900.0    235\n",
      "1965.0    210\n",
      "1950.0    126\n",
      "1968.0    106\n",
      "1975.0    101\n",
      "2008.0     98\n",
      "2005.0     97\n",
      "1940.0     96\n",
      "Name: built_year, dtype: int64\n"
     ]
    },
    {
     "data": {
      "image/png": "[encoded data removed]",
      "text/plain": [
       "<Figure size 432x288 with 1 Axes>"
      ]
     },
     "metadata": {
      "needs_background": "light"
     },
     "output_type": "display_data"
    }
   ],
   "source": [
    "# Regions are encoded with numeric IDs.\n",
    "regions = df['built_year'].value_counts()\n",
    "print(regions.head(10))\n",
    "\n",
    "plt.hist(regions.values, bins=5)\n",
    "plt.title('Listings by built year')\n",
    "plt.show()"
   ]
  },
  {
   "cell_type": "code",
   "execution_count": 19,
   "id": "75c65420",
   "metadata": {},
   "outputs": [
    {
     "data": {
      "text/plain": [
       "<AxesSubplot:xlabel='buy_price', ylabel='Density'>"
      ]
     },
     "execution_count": 19,
     "metadata": {},
     "output_type": "execute_result"
    },
    {
     "data": {
      "image/png": "[encoded data removed]",
      "text/plain": [
       "<Figure size 432x288 with 1 Axes>"
      ]
     },
     "metadata": {
      "needs_background": "light"
     },
     "output_type": "display_data"
    }
   ],
   "source": [
    "sns.histplot(df['buy_price'],kde=True,stat=\"density\")"
   ]
  },
  {
   "cell_type": "code",
   "execution_count": 20,
   "id": "ade103c5",
   "metadata": {},
   "outputs": [
    {
     "data": {
      "text/html": [
       "<div>\n",
       "<style scoped>\n",
       "    .dataframe tbody tr th:only-of-type {\n",
       "        vertical-align: middle;\n",
       "    }\n",
       "\n",
       "    .dataframe tbody tr th {\n",
       "        vertical-align: top;\n",
       "    }\n",
       "\n",
       "    .dataframe thead th {\n",
       "        text-align: right;\n",
       "    }\n",
       "</style>\n",
       "<table border=\"1\" class=\"dataframe\">\n",
       "  <thead>\n",
       "    <tr style=\"text-align: right;\">\n",
       "      <th></th>\n",
       "      <th>sq_mt_built</th>\n",
       "      <th>buy_price</th>\n",
       "      <th>n_rooms</th>\n",
       "      <th>n_bathrooms</th>\n",
       "      <th>has_parking</th>\n",
       "      <th>built_year</th>\n",
       "      <th>is_orientation_south</th>\n",
       "      <th>has_lift</th>\n",
       "      <th>has_central_heating</th>\n",
       "    </tr>\n",
       "  </thead>\n",
       "  <tbody>\n",
       "    <tr>\n",
       "      <th>count</th>\n",
       "      <td>4955.000000</td>\n",
       "      <td>4.955000e+03</td>\n",
       "      <td>4955.000000</td>\n",
       "      <td>4955.000000</td>\n",
       "      <td>4955</td>\n",
       "      <td>4955.000000</td>\n",
       "      <td>4955</td>\n",
       "      <td>4955</td>\n",
       "      <td>4955</td>\n",
       "    </tr>\n",
       "    <tr>\n",
       "      <th>unique</th>\n",
       "      <td>NaN</td>\n",
       "      <td>NaN</td>\n",
       "      <td>NaN</td>\n",
       "      <td>NaN</td>\n",
       "      <td>2</td>\n",
       "      <td>NaN</td>\n",
       "      <td>2</td>\n",
       "      <td>2</td>\n",
       "      <td>2</td>\n",
       "    </tr>\n",
       "    <tr>\n",
       "      <th>top</th>\n",
       "      <td>NaN</td>\n",
       "      <td>NaN</td>\n",
       "      <td>NaN</td>\n",
       "      <td>NaN</td>\n",
       "      <td>False</td>\n",
       "      <td>NaN</td>\n",
       "      <td>False</td>\n",
       "      <td>True</td>\n",
       "      <td>False</td>\n",
       "    </tr>\n",
       "    <tr>\n",
       "      <th>freq</th>\n",
       "      <td>NaN</td>\n",
       "      <td>NaN</td>\n",
       "      <td>NaN</td>\n",
       "      <td>NaN</td>\n",
       "      <td>3205</td>\n",
       "      <td>NaN</td>\n",
       "      <td>2564</td>\n",
       "      <td>4019</td>\n",
       "      <td>3385</td>\n",
       "    </tr>\n",
       "    <tr>\n",
       "      <th>mean</th>\n",
       "      <td>121.161655</td>\n",
       "      <td>5.245414e+05</td>\n",
       "      <td>2.837336</td>\n",
       "      <td>1.857921</td>\n",
       "      <td>NaN</td>\n",
       "      <td>1968.447427</td>\n",
       "      <td>NaN</td>\n",
       "      <td>NaN</td>\n",
       "      <td>NaN</td>\n",
       "    </tr>\n",
       "    <tr>\n",
       "      <th>std</th>\n",
       "      <td>71.826797</td>\n",
       "      <td>4.316717e+05</td>\n",
       "      <td>1.256464</td>\n",
       "      <td>0.935331</td>\n",
       "      <td>NaN</td>\n",
       "      <td>31.515768</td>\n",
       "      <td>NaN</td>\n",
       "      <td>NaN</td>\n",
       "      <td>NaN</td>\n",
       "    </tr>\n",
       "    <tr>\n",
       "      <th>min</th>\n",
       "      <td>15.000000</td>\n",
       "      <td>5.300000e+04</td>\n",
       "      <td>0.000000</td>\n",
       "      <td>1.000000</td>\n",
       "      <td>NaN</td>\n",
       "      <td>1723.000000</td>\n",
       "      <td>NaN</td>\n",
       "      <td>NaN</td>\n",
       "      <td>NaN</td>\n",
       "    </tr>\n",
       "    <tr>\n",
       "      <th>25%</th>\n",
       "      <td>72.000000</td>\n",
       "      <td>2.200000e+05</td>\n",
       "      <td>2.000000</td>\n",
       "      <td>1.000000</td>\n",
       "      <td>NaN</td>\n",
       "      <td>1956.000000</td>\n",
       "      <td>NaN</td>\n",
       "      <td>NaN</td>\n",
       "      <td>NaN</td>\n",
       "    </tr>\n",
       "    <tr>\n",
       "      <th>50%</th>\n",
       "      <td>100.000000</td>\n",
       "      <td>3.850000e+05</td>\n",
       "      <td>3.000000</td>\n",
       "      <td>2.000000</td>\n",
       "      <td>NaN</td>\n",
       "      <td>1970.000000</td>\n",
       "      <td>NaN</td>\n",
       "      <td>NaN</td>\n",
       "      <td>NaN</td>\n",
       "    </tr>\n",
       "    <tr>\n",
       "      <th>75%</th>\n",
       "      <td>148.000000</td>\n",
       "      <td>6.750000e+05</td>\n",
       "      <td>4.000000</td>\n",
       "      <td>2.000000</td>\n",
       "      <td>NaN</td>\n",
       "      <td>1993.500000</td>\n",
       "      <td>NaN</td>\n",
       "      <td>NaN</td>\n",
       "      <td>NaN</td>\n",
       "    </tr>\n",
       "    <tr>\n",
       "      <th>max</th>\n",
       "      <td>604.000000</td>\n",
       "      <td>2.350000e+06</td>\n",
       "      <td>14.000000</td>\n",
       "      <td>7.000000</td>\n",
       "      <td>NaN</td>\n",
       "      <td>2022.000000</td>\n",
       "      <td>NaN</td>\n",
       "      <td>NaN</td>\n",
       "      <td>NaN</td>\n",
       "    </tr>\n",
       "  </tbody>\n",
       "</table>\n",
       "</div>"
      ],
      "text/plain": [
       "        sq_mt_built     buy_price      n_rooms  n_bathrooms has_parking  \\\n",
       "count   4955.000000  4.955000e+03  4955.000000  4955.000000        4955   \n",
       "unique          NaN           NaN          NaN          NaN           2   \n",
       "top             NaN           NaN          NaN          NaN       False   \n",
       "freq            NaN           NaN          NaN          NaN        3205   \n",
       "mean     121.161655  5.245414e+05     2.837336     1.857921         NaN   \n",
       "std       71.826797  4.316717e+05     1.256464     0.935331         NaN   \n",
       "min       15.000000  5.300000e+04     0.000000     1.000000         NaN   \n",
       "25%       72.000000  2.200000e+05     2.000000     1.000000         NaN   \n",
       "50%      100.000000  3.850000e+05     3.000000     2.000000         NaN   \n",
       "75%      148.000000  6.750000e+05     4.000000     2.000000         NaN   \n",
       "max      604.000000  2.350000e+06    14.000000     7.000000         NaN   \n",
       "\n",
       "         built_year is_orientation_south has_lift has_central_heating  \n",
       "count   4955.000000                 4955     4955                4955  \n",
       "unique          NaN                    2        2                   2  \n",
       "top             NaN                False     True               False  \n",
       "freq            NaN                 2564     4019                3385  \n",
       "mean    1968.447427                  NaN      NaN                 NaN  \n",
       "std       31.515768                  NaN      NaN                 NaN  \n",
       "min     1723.000000                  NaN      NaN                 NaN  \n",
       "25%     1956.000000                  NaN      NaN                 NaN  \n",
       "50%     1970.000000                  NaN      NaN                 NaN  \n",
       "75%     1993.500000                  NaN      NaN                 NaN  \n",
       "max     2022.000000                  NaN      NaN                 NaN  "
      ]
     },
     "execution_count": 20,
     "metadata": {},
     "output_type": "execute_result"
    }
   ],
   "source": [
    "out = df['buy_price'].quantile(0.98)\n",
    "\n",
    "\n",
    "df = df[df['buy_price']<out]\n",
    "\n",
    "df.describe(include='all')"
   ]
  },
  {
   "cell_type": "code",
   "execution_count": 21,
   "id": "544a8bb4",
   "metadata": {},
   "outputs": [
    {
     "data": {
      "text/plain": [
       "<AxesSubplot:xlabel='buy_price', ylabel='Density'>"
      ]
     },
     "execution_count": 21,
     "metadata": {},
     "output_type": "execute_result"
    },
    {
     "data": {
      "image/png": "[encoded data removed]",
      "text/plain": [
       "<Figure size 432x288 with 1 Axes>"
      ]
     },
     "metadata": {
      "needs_background": "light"
     },
     "output_type": "display_data"
    }
   ],
   "source": [
    "sns.histplot(df['buy_price'],kde=True,stat=\"density\")"
   ]
  },
  {
   "cell_type": "code",
   "execution_count": 22,
   "id": "533b7e82",
   "metadata": {},
   "outputs": [
    {
     "data": {
      "text/plain": [
       "2022.0"
      ]
     },
     "execution_count": 22,
     "metadata": {},
     "output_type": "execute_result"
    }
   ],
   "source": [
    "df.built_year.max()"
   ]
  },
  {
   "cell_type": "code",
   "execution_count": 23,
   "id": "4aa2b7ef",
   "metadata": {},
   "outputs": [],
   "source": [
    "df=df[df.built_year<=2022]"
   ]
  },
  {
   "cell_type": "code",
   "execution_count": 24,
   "id": "9cef1c0e",
   "metadata": {},
   "outputs": [
    {
     "data": {
      "text/plain": [
       "2022.0"
      ]
     },
     "execution_count": 24,
     "metadata": {},
     "output_type": "execute_result"
    }
   ],
   "source": [
    "df.built_year.max()"
   ]
  },
  {
   "cell_type": "code",
   "execution_count": 25,
   "id": "c4bcfb1b",
   "metadata": {},
   "outputs": [
    {
     "data": {
      "text/plain": [
       "<AxesSubplot:xlabel='built_year', ylabel='Density'>"
      ]
     },
     "execution_count": 25,
     "metadata": {},
     "output_type": "execute_result"
    },
    {
     "data": {
      "image/png": "[encoded data removed]",
      "text/plain": [
       "<Figure size 432x288 with 1 Axes>"
      ]
     },
     "metadata": {
      "needs_background": "light"
     },
     "output_type": "display_data"
    }
   ],
   "source": [
    "sns.histplot(df['built_year'],kde=True, stat=\"density\", linewidth=0)"
   ]
  },
  {
   "cell_type": "code",
   "execution_count": 26,
   "id": "4feb6e4d",
   "metadata": {},
   "outputs": [
    {
     "data": {
      "text/plain": [
       "<AxesSubplot:xlabel='built_year', ylabel='Density'>"
      ]
     },
     "execution_count": 26,
     "metadata": {},
     "output_type": "execute_result"
    },
    {
     "data": {
      "image/png": "[encoded data removed]",
      "text/plain": [
       "<Figure size 432x288 with 1 Axes>"
      ]
     },
     "metadata": {
      "needs_background": "light"
     },
     "output_type": "display_data"
    }
   ],
   "source": [
    "df = df[df['built_year']<2022]\n",
    "sns.histplot(df['built_year'],kde=True, stat=\"density\", linewidth=0)"
   ]
  },
  {
   "cell_type": "code",
   "execution_count": 27,
   "id": "e187ad25",
   "metadata": {},
   "outputs": [],
   "source": [
    "data_cleaned = df.reset_index(drop=True)\n",
    "df.to_csv('data_cleaned.csv')"
   ]
  },
  {
   "cell_type": "code",
   "execution_count": 28,
   "id": "0cbeaa7b",
   "metadata": {},
   "outputs": [
    {
     "data": {
      "image/png": "[encoded data removed]",
      "text/plain": [
       "<Figure size 1080x216 with 3 Axes>"
      ]
     },
     "metadata": {
      "needs_background": "light"
     },
     "output_type": "display_data"
    }
   ],
   "source": [
    "f, (ax1, ax2, ax3) = plt.subplots(1, 3, sharey=True, figsize =(15,3))\n",
    "ax1.scatter(data_cleaned['built_year'],data_cleaned['buy_price'])\n",
    "ax1.set_title('Price and Year Built')\n",
    "ax2.scatter(data_cleaned['sq_mt_built'],data_cleaned['buy_price'])\n",
    "ax2.set_title('Price and Space')\n",
    "ax3.scatter(data_cleaned['n_bathrooms'],data_cleaned['buy_price'])\n",
    "ax3.set_title('Price and number of Bathrooms')\n",
    "\n",
    "\n",
    "plt.show()"
   ]
  },
  {
   "cell_type": "code",
   "execution_count": 29,
   "id": "5a9f624f",
   "metadata": {},
   "outputs": [
    {
     "data": {
      "text/html": [
       "<div>\n",
       "<style scoped>\n",
       "    .dataframe tbody tr th:only-of-type {\n",
       "        vertical-align: middle;\n",
       "    }\n",
       "\n",
       "    .dataframe tbody tr th {\n",
       "        vertical-align: top;\n",
       "    }\n",
       "\n",
       "    .dataframe thead th {\n",
       "        text-align: right;\n",
       "    }\n",
       "</style>\n",
       "<table border=\"1\" class=\"dataframe\">\n",
       "  <thead>\n",
       "    <tr style=\"text-align: right;\">\n",
       "      <th></th>\n",
       "      <th>sq_mt_built</th>\n",
       "      <th>buy_price</th>\n",
       "      <th>n_rooms</th>\n",
       "      <th>n_bathrooms</th>\n",
       "      <th>has_parking</th>\n",
       "      <th>built_year</th>\n",
       "      <th>is_orientation_south</th>\n",
       "      <th>has_lift</th>\n",
       "      <th>has_central_heating</th>\n",
       "      <th>log_price</th>\n",
       "    </tr>\n",
       "  </thead>\n",
       "  <tbody>\n",
       "    <tr>\n",
       "      <th>0</th>\n",
       "      <td>126.0</td>\n",
       "      <td>195000</td>\n",
       "      <td>4</td>\n",
       "      <td>2.0</td>\n",
       "      <td>True</td>\n",
       "      <td>1981.0</td>\n",
       "      <td>False</td>\n",
       "      <td>False</td>\n",
       "      <td>False</td>\n",
       "      <td>12.180755</td>\n",
       "    </tr>\n",
       "    <tr>\n",
       "      <th>1</th>\n",
       "      <td>85.0</td>\n",
       "      <td>131400</td>\n",
       "      <td>2</td>\n",
       "      <td>1.0</td>\n",
       "      <td>False</td>\n",
       "      <td>1950.0</td>\n",
       "      <td>False</td>\n",
       "      <td>False</td>\n",
       "      <td>False</td>\n",
       "      <td>11.786001</td>\n",
       "    </tr>\n",
       "    <tr>\n",
       "      <th>2</th>\n",
       "      <td>75.0</td>\n",
       "      <td>138000</td>\n",
       "      <td>3</td>\n",
       "      <td>1.0</td>\n",
       "      <td>True</td>\n",
       "      <td>1984.0</td>\n",
       "      <td>False</td>\n",
       "      <td>False</td>\n",
       "      <td>False</td>\n",
       "      <td>11.835009</td>\n",
       "    </tr>\n",
       "    <tr>\n",
       "      <th>3</th>\n",
       "      <td>70.0</td>\n",
       "      <td>145900</td>\n",
       "      <td>2</td>\n",
       "      <td>1.0</td>\n",
       "      <td>False</td>\n",
       "      <td>1968.0</td>\n",
       "      <td>True</td>\n",
       "      <td>False</td>\n",
       "      <td>False</td>\n",
       "      <td>11.890677</td>\n",
       "    </tr>\n",
       "    <tr>\n",
       "      <th>4</th>\n",
       "      <td>75.0</td>\n",
       "      <td>92500</td>\n",
       "      <td>1</td>\n",
       "      <td>1.0</td>\n",
       "      <td>False</td>\n",
       "      <td>2008.0</td>\n",
       "      <td>True</td>\n",
       "      <td>True</td>\n",
       "      <td>False</td>\n",
       "      <td>11.434964</td>\n",
       "    </tr>\n",
       "  </tbody>\n",
       "</table>\n",
       "</div>"
      ],
      "text/plain": [
       "   sq_mt_built  buy_price  n_rooms  n_bathrooms  has_parking  built_year  \\\n",
       "0        126.0     195000        4          2.0         True      1981.0   \n",
       "1         85.0     131400        2          1.0        False      1950.0   \n",
       "2         75.0     138000        3          1.0         True      1984.0   \n",
       "3         70.0     145900        2          1.0        False      1968.0   \n",
       "4         75.0      92500        1          1.0        False      2008.0   \n",
       "\n",
       "  is_orientation_south has_lift has_central_heating  log_price  \n",
       "0                False    False               False  12.180755  \n",
       "1                False    False               False  11.786001  \n",
       "2                False    False               False  11.835009  \n",
       "3                 True    False               False  11.890677  \n",
       "4                 True     True               False  11.434964  "
      ]
     },
     "execution_count": 29,
     "metadata": {},
     "output_type": "execute_result"
    }
   ],
   "source": [
    "log_price = np.log(data_cleaned['buy_price'])\n",
    "\n",
    "# Then we add it to our data frame\n",
    "data_cleaned['log_price'] = log_price\n",
    "data_cleaned.head()"
   ]
  },
  {
   "cell_type": "code",
   "execution_count": 30,
   "id": "2b994419",
   "metadata": {},
   "outputs": [
    {
     "data": {
      "image/png": "[encoded data removed]",
      "text/plain": [
       "<Figure size 1080x216 with 3 Axes>"
      ]
     },
     "metadata": {
      "needs_background": "light"
     },
     "output_type": "display_data"
    }
   ],
   "source": [
    "f, (ax1, ax2, ax3) = plt.subplots(1, 3, sharey=True, figsize =(15,3)) #sharey -> share 'Price' as y\n",
    "ax1.scatter(data_cleaned['built_year'],data_cleaned['log_price'])\n",
    "ax1.set_title('Log Price and Year Built')\n",
    "ax2.scatter(data_cleaned['sq_mt_built'],data_cleaned['log_price'])\n",
    "ax2.set_title('Log Price and Space')\n",
    "ax3.scatter(data_cleaned['n_bathrooms'],data_cleaned['log_price'])\n",
    "ax3.set_title('Log Price and number of Bathrooms')\n",
    "\n",
    "\n",
    "plt.show()"
   ]
  },
  {
   "cell_type": "code",
   "execution_count": 31,
   "id": "21a048c1",
   "metadata": {},
   "outputs": [],
   "source": [
    "data_cleaned = data_cleaned.drop(['buy_price'],axis=1)"
   ]
  },
  {
   "cell_type": "code",
   "execution_count": 32,
   "id": "feb774ff",
   "metadata": {},
   "outputs": [
    {
     "data": {
      "text/html": [
       "<div>\n",
       "<style scoped>\n",
       "    .dataframe tbody tr th:only-of-type {\n",
       "        vertical-align: middle;\n",
       "    }\n",
       "\n",
       "    .dataframe tbody tr th {\n",
       "        vertical-align: top;\n",
       "    }\n",
       "\n",
       "    .dataframe thead th {\n",
       "        text-align: right;\n",
       "    }\n",
       "</style>\n",
       "<table border=\"1\" class=\"dataframe\">\n",
       "  <thead>\n",
       "    <tr style=\"text-align: right;\">\n",
       "      <th></th>\n",
       "      <th>sq_mt_built</th>\n",
       "      <th>n_rooms</th>\n",
       "      <th>n_bathrooms</th>\n",
       "      <th>has_parking</th>\n",
       "      <th>built_year</th>\n",
       "      <th>log_price</th>\n",
       "    </tr>\n",
       "  </thead>\n",
       "  <tbody>\n",
       "    <tr>\n",
       "      <th>sq_mt_built</th>\n",
       "      <td>1.000000</td>\n",
       "      <td>0.701164</td>\n",
       "      <td>0.812135</td>\n",
       "      <td>0.311409</td>\n",
       "      <td>-0.028692</td>\n",
       "      <td>0.805136</td>\n",
       "    </tr>\n",
       "    <tr>\n",
       "      <th>n_rooms</th>\n",
       "      <td>0.701164</td>\n",
       "      <td>1.000000</td>\n",
       "      <td>0.627143</td>\n",
       "      <td>0.154510</td>\n",
       "      <td>-0.083012</td>\n",
       "      <td>0.532916</td>\n",
       "    </tr>\n",
       "    <tr>\n",
       "      <th>n_bathrooms</th>\n",
       "      <td>0.812135</td>\n",
       "      <td>0.627143</td>\n",
       "      <td>1.000000</td>\n",
       "      <td>0.320105</td>\n",
       "      <td>0.012927</td>\n",
       "      <td>0.764280</td>\n",
       "    </tr>\n",
       "    <tr>\n",
       "      <th>has_parking</th>\n",
       "      <td>0.311409</td>\n",
       "      <td>0.154510</td>\n",
       "      <td>0.320105</td>\n",
       "      <td>1.000000</td>\n",
       "      <td>0.480090</td>\n",
       "      <td>0.296909</td>\n",
       "    </tr>\n",
       "    <tr>\n",
       "      <th>built_year</th>\n",
       "      <td>-0.028692</td>\n",
       "      <td>-0.083012</td>\n",
       "      <td>0.012927</td>\n",
       "      <td>0.480090</td>\n",
       "      <td>1.000000</td>\n",
       "      <td>-0.127413</td>\n",
       "    </tr>\n",
       "    <tr>\n",
       "      <th>log_price</th>\n",
       "      <td>0.805136</td>\n",
       "      <td>0.532916</td>\n",
       "      <td>0.764280</td>\n",
       "      <td>0.296909</td>\n",
       "      <td>-0.127413</td>\n",
       "      <td>1.000000</td>\n",
       "    </tr>\n",
       "  </tbody>\n",
       "</table>\n",
       "</div>"
      ],
      "text/plain": [
       "             sq_mt_built   n_rooms  n_bathrooms  has_parking  built_year  \\\n",
       "sq_mt_built     1.000000  0.701164     0.812135     0.311409   -0.028692   \n",
       "n_rooms         0.701164  1.000000     0.627143     0.154510   -0.083012   \n",
       "n_bathrooms     0.812135  0.627143     1.000000     0.320105    0.012927   \n",
       "has_parking     0.311409  0.154510     0.320105     1.000000    0.480090   \n",
       "built_year     -0.028692 -0.083012     0.012927     0.480090    1.000000   \n",
       "log_price       0.805136  0.532916     0.764280     0.296909   -0.127413   \n",
       "\n",
       "             log_price  \n",
       "sq_mt_built   0.805136  \n",
       "n_rooms       0.532916  \n",
       "n_bathrooms   0.764280  \n",
       "has_parking   0.296909  \n",
       "built_year   -0.127413  \n",
       "log_price     1.000000  "
      ]
     },
     "execution_count": 32,
     "metadata": {},
     "output_type": "execute_result"
    }
   ],
   "source": [
    "data_cleaned.corr()"
   ]
  },
  {
   "cell_type": "code",
   "execution_count": 33,
   "id": "c50c3d35",
   "metadata": {},
   "outputs": [
    {
     "data": {
      "image/png": "[encoded data removed]",
      "text/plain": [
       "<Figure size 432x288 with 2 Axes>"
      ]
     },
     "metadata": {
      "needs_background": "light"
     },
     "output_type": "display_data"
    }
   ],
   "source": [
    "correlation = data_cleaned.corr()\n",
    "ax = sns.heatmap(correlation, center=0, cmap='RdBu_r')\n",
    "l, r = ax.get_ylim()\n",
    "ax.set_ylim(l + 0.5, r - 0.5)\n",
    "plt.yticks(rotation=0)\n",
    "plt.title('Correlation Matrix')\n",
    "plt.show()"
   ]
  },
  {
   "cell_type": "code",
   "execution_count": 34,
   "id": "38324e04",
   "metadata": {},
   "outputs": [],
   "source": [
    "x = data_cleaned.iloc[:,0:7]\n",
    "y = data_cleaned['log_price']"
   ]
  },
  {
   "cell_type": "code",
   "execution_count": 35,
   "id": "2d5694a9",
   "metadata": {},
   "outputs": [
    {
     "data": {
      "text/html": [
       "<div>\n",
       "<style scoped>\n",
       "    .dataframe tbody tr th:only-of-type {\n",
       "        vertical-align: middle;\n",
       "    }\n",
       "\n",
       "    .dataframe tbody tr th {\n",
       "        vertical-align: top;\n",
       "    }\n",
       "\n",
       "    .dataframe thead th {\n",
       "        text-align: right;\n",
       "    }\n",
       "</style>\n",
       "<table border=\"1\" class=\"dataframe\">\n",
       "  <thead>\n",
       "    <tr style=\"text-align: right;\">\n",
       "      <th></th>\n",
       "      <th>sq_mt_built</th>\n",
       "      <th>n_rooms</th>\n",
       "      <th>n_bathrooms</th>\n",
       "      <th>has_parking</th>\n",
       "      <th>built_year</th>\n",
       "      <th>is_orientation_south</th>\n",
       "      <th>has_lift</th>\n",
       "    </tr>\n",
       "  </thead>\n",
       "  <tbody>\n",
       "    <tr>\n",
       "      <th>0</th>\n",
       "      <td>126.0</td>\n",
       "      <td>4</td>\n",
       "      <td>2.0</td>\n",
       "      <td>True</td>\n",
       "      <td>1981.0</td>\n",
       "      <td>False</td>\n",
       "      <td>False</td>\n",
       "    </tr>\n",
       "    <tr>\n",
       "      <th>1</th>\n",
       "      <td>85.0</td>\n",
       "      <td>2</td>\n",
       "      <td>1.0</td>\n",
       "      <td>False</td>\n",
       "      <td>1950.0</td>\n",
       "      <td>False</td>\n",
       "      <td>False</td>\n",
       "    </tr>\n",
       "    <tr>\n",
       "      <th>2</th>\n",
       "      <td>75.0</td>\n",
       "      <td>3</td>\n",
       "      <td>1.0</td>\n",
       "      <td>True</td>\n",
       "      <td>1984.0</td>\n",
       "      <td>False</td>\n",
       "      <td>False</td>\n",
       "    </tr>\n",
       "    <tr>\n",
       "      <th>3</th>\n",
       "      <td>70.0</td>\n",
       "      <td>2</td>\n",
       "      <td>1.0</td>\n",
       "      <td>False</td>\n",
       "      <td>1968.0</td>\n",
       "      <td>True</td>\n",
       "      <td>False</td>\n",
       "    </tr>\n",
       "    <tr>\n",
       "      <th>4</th>\n",
       "      <td>75.0</td>\n",
       "      <td>1</td>\n",
       "      <td>1.0</td>\n",
       "      <td>False</td>\n",
       "      <td>2008.0</td>\n",
       "      <td>True</td>\n",
       "      <td>True</td>\n",
       "    </tr>\n",
       "  </tbody>\n",
       "</table>\n",
       "</div>"
      ],
      "text/plain": [
       "   sq_mt_built  n_rooms  n_bathrooms  has_parking  built_year  \\\n",
       "0        126.0        4          2.0         True      1981.0   \n",
       "1         85.0        2          1.0        False      1950.0   \n",
       "2         75.0        3          1.0         True      1984.0   \n",
       "3         70.0        2          1.0        False      1968.0   \n",
       "4         75.0        1          1.0        False      2008.0   \n",
       "\n",
       "  is_orientation_south has_lift  \n",
       "0                False    False  \n",
       "1                False    False  \n",
       "2                False    False  \n",
       "3                 True    False  \n",
       "4                 True     True  "
      ]
     },
     "execution_count": 35,
     "metadata": {},
     "output_type": "execute_result"
    }
   ],
   "source": [
    "x.head()"
   ]
  },
  {
   "cell_type": "code",
   "execution_count": null,
   "id": "2a15cb9c",
   "metadata": {},
   "outputs": [],
   "source": []
  },
  {
   "cell_type": "code",
   "execution_count": 36,
   "id": "247a0e8e",
   "metadata": {},
   "outputs": [
    {
     "data": {
      "text/plain": [
       "0    12.180755\n",
       "1    11.786001\n",
       "2    11.835009\n",
       "3    11.890677\n",
       "4    11.434964\n",
       "Name: log_price, dtype: float64"
      ]
     },
     "execution_count": 36,
     "metadata": {},
     "output_type": "execute_result"
    }
   ],
   "source": [
    "y.head()"
   ]
  },
  {
   "cell_type": "code",
   "execution_count": 37,
   "id": "4dd1c063",
   "metadata": {},
   "outputs": [
    {
     "data": {
      "text/plain": [
       "ExtraTreesRegressor()"
      ]
     },
     "execution_count": 37,
     "metadata": {},
     "output_type": "execute_result"
    }
   ],
   "source": [
    "from sklearn.ensemble import ExtraTreesRegressor\n",
    "model = ExtraTreesRegressor()\n",
    "model.fit(x,y)\n"
   ]
  },
  {
   "cell_type": "code",
   "execution_count": 38,
   "id": "5b5acd3b",
   "metadata": {},
   "outputs": [
    {
     "name": "stdout",
     "output_type": "stream",
     "text": [
      "[0.37309319 0.05236761 0.30345839 0.0104742  0.11141241 0.01243715\n",
      " 0.13675706]\n"
     ]
    }
   ],
   "source": [
    "print(model.feature_importances_)"
   ]
  },
  {
   "cell_type": "code",
   "execution_count": 39,
   "id": "f36801bf",
   "metadata": {},
   "outputs": [
    {
     "data": {
      "image/png": "[encoded data removed]",
      "text/plain": [
       "<Figure size 432x288 with 1 Axes>"
      ]
     },
     "metadata": {
      "needs_background": "light"
     },
     "output_type": "display_data"
    }
   ],
   "source": [
    "feat_importances = pd.Series(model.feature_importances_, index = x.columns)\n",
    "feat_importances.nlargest(11).plot(kind='barh')\n",
    "plt.show()"
   ]
  },
  {
   "cell_type": "code",
   "execution_count": 40,
   "id": "c48074ba",
   "metadata": {},
   "outputs": [],
   "source": [
    "from statsmodels.stats.outliers_influence import variance_inflation_factor"
   ]
  },
  {
   "cell_type": "code",
   "execution_count": 41,
   "id": "2d645f3f",
   "metadata": {},
   "outputs": [
    {
     "data": {
      "text/html": [
       "<div>\n",
       "<style scoped>\n",
       "    .dataframe tbody tr th:only-of-type {\n",
       "        vertical-align: middle;\n",
       "    }\n",
       "\n",
       "    .dataframe tbody tr th {\n",
       "        vertical-align: top;\n",
       "    }\n",
       "\n",
       "    .dataframe thead th {\n",
       "        text-align: right;\n",
       "    }\n",
       "</style>\n",
       "<table border=\"1\" class=\"dataframe\">\n",
       "  <thead>\n",
       "    <tr style=\"text-align: right;\">\n",
       "      <th></th>\n",
       "      <th>VIF</th>\n",
       "      <th>Features</th>\n",
       "    </tr>\n",
       "  </thead>\n",
       "  <tbody>\n",
       "    <tr>\n",
       "      <th>0</th>\n",
       "      <td>13.745492</td>\n",
       "      <td>sq_mt_built</td>\n",
       "    </tr>\n",
       "    <tr>\n",
       "      <th>1</th>\n",
       "      <td>14.831790</td>\n",
       "      <td>n_bathrooms</td>\n",
       "    </tr>\n",
       "    <tr>\n",
       "      <th>2</th>\n",
       "      <td>6.814239</td>\n",
       "      <td>built_year</td>\n",
       "    </tr>\n",
       "    <tr>\n",
       "      <th>3</th>\n",
       "      <td>12.173304</td>\n",
       "      <td>n_rooms</td>\n",
       "    </tr>\n",
       "  </tbody>\n",
       "</table>\n",
       "</div>"
      ],
      "text/plain": [
       "         VIF     Features\n",
       "0  13.745492  sq_mt_built\n",
       "1  14.831790  n_bathrooms\n",
       "2   6.814239   built_year\n",
       "3  12.173304      n_rooms"
      ]
     },
     "execution_count": 41,
     "metadata": {},
     "output_type": "execute_result"
    }
   ],
   "source": [
    "x_variables = data_cleaned[['sq_mt_built', 'n_bathrooms', 'built_year', 'n_rooms']]\n",
    "vif = pd.DataFrame()\n",
    "vif[\"VIF\"] = [variance_inflation_factor(x_variables.values, i) for i in range(x_variables.shape[1])]\n",
    "vif[\"Features\"] = x_variables.columns\n",
    "vif"
   ]
  },
  {
   "cell_type": "code",
   "execution_count": 42,
   "id": "503195e0",
   "metadata": {},
   "outputs": [
    {
     "data": {
      "text/html": [
       "<div>\n",
       "<style scoped>\n",
       "    .dataframe tbody tr th:only-of-type {\n",
       "        vertical-align: middle;\n",
       "    }\n",
       "\n",
       "    .dataframe tbody tr th {\n",
       "        vertical-align: top;\n",
       "    }\n",
       "\n",
       "    .dataframe thead th {\n",
       "        text-align: right;\n",
       "    }\n",
       "</style>\n",
       "<table border=\"1\" class=\"dataframe\">\n",
       "  <thead>\n",
       "    <tr style=\"text-align: right;\">\n",
       "      <th></th>\n",
       "      <th>VIF</th>\n",
       "      <th>Features</th>\n",
       "    </tr>\n",
       "  </thead>\n",
       "  <tbody>\n",
       "    <tr>\n",
       "      <th>0</th>\n",
       "      <td>3.836022</td>\n",
       "      <td>built_year</td>\n",
       "    </tr>\n",
       "    <tr>\n",
       "      <th>1</th>\n",
       "      <td>3.836022</td>\n",
       "      <td>sq_mt_built</td>\n",
       "    </tr>\n",
       "  </tbody>\n",
       "</table>\n",
       "</div>"
      ],
      "text/plain": [
       "        VIF     Features\n",
       "0  3.836022   built_year\n",
       "1  3.836022  sq_mt_built"
      ]
     },
     "execution_count": 42,
     "metadata": {},
     "output_type": "execute_result"
    }
   ],
   "source": [
    "data_no_multicollinearity = data_cleaned.drop(['n_bathrooms','n_rooms'],axis=1)\n",
    "x_variables = data_cleaned[['built_year','sq_mt_built']]\n",
    "\n",
    "vif = pd.DataFrame()\n",
    "\n",
    "vif[\"VIF\"] = [variance_inflation_factor(x_variables.values, i) for i in range(x_variables.shape[1])]\n",
    "\n",
    "vif[\"Features\"] = x_variables.columns\n",
    "\n",
    "vif"
   ]
  },
  {
   "cell_type": "code",
   "execution_count": 43,
   "id": "de880454",
   "metadata": {},
   "outputs": [
    {
     "data": {
      "text/html": [
       "<div>\n",
       "<style scoped>\n",
       "    .dataframe tbody tr th:only-of-type {\n",
       "        vertical-align: middle;\n",
       "    }\n",
       "\n",
       "    .dataframe tbody tr th {\n",
       "        vertical-align: top;\n",
       "    }\n",
       "\n",
       "    .dataframe thead th {\n",
       "        text-align: right;\n",
       "    }\n",
       "</style>\n",
       "<table border=\"1\" class=\"dataframe\">\n",
       "  <thead>\n",
       "    <tr style=\"text-align: right;\">\n",
       "      <th></th>\n",
       "      <th>sq_mt_built</th>\n",
       "      <th>has_parking</th>\n",
       "      <th>built_year</th>\n",
       "      <th>is_orientation_south</th>\n",
       "      <th>has_lift</th>\n",
       "      <th>has_central_heating</th>\n",
       "      <th>log_price</th>\n",
       "    </tr>\n",
       "  </thead>\n",
       "  <tbody>\n",
       "    <tr>\n",
       "      <th>0</th>\n",
       "      <td>126.0</td>\n",
       "      <td>True</td>\n",
       "      <td>1981.0</td>\n",
       "      <td>False</td>\n",
       "      <td>False</td>\n",
       "      <td>False</td>\n",
       "      <td>12.180755</td>\n",
       "    </tr>\n",
       "    <tr>\n",
       "      <th>1</th>\n",
       "      <td>85.0</td>\n",
       "      <td>False</td>\n",
       "      <td>1950.0</td>\n",
       "      <td>False</td>\n",
       "      <td>False</td>\n",
       "      <td>False</td>\n",
       "      <td>11.786001</td>\n",
       "    </tr>\n",
       "    <tr>\n",
       "      <th>2</th>\n",
       "      <td>75.0</td>\n",
       "      <td>True</td>\n",
       "      <td>1984.0</td>\n",
       "      <td>False</td>\n",
       "      <td>False</td>\n",
       "      <td>False</td>\n",
       "      <td>11.835009</td>\n",
       "    </tr>\n",
       "    <tr>\n",
       "      <th>3</th>\n",
       "      <td>70.0</td>\n",
       "      <td>False</td>\n",
       "      <td>1968.0</td>\n",
       "      <td>True</td>\n",
       "      <td>False</td>\n",
       "      <td>False</td>\n",
       "      <td>11.890677</td>\n",
       "    </tr>\n",
       "    <tr>\n",
       "      <th>4</th>\n",
       "      <td>75.0</td>\n",
       "      <td>False</td>\n",
       "      <td>2008.0</td>\n",
       "      <td>True</td>\n",
       "      <td>True</td>\n",
       "      <td>False</td>\n",
       "      <td>11.434964</td>\n",
       "    </tr>\n",
       "  </tbody>\n",
       "</table>\n",
       "</div>"
      ],
      "text/plain": [
       "   sq_mt_built  has_parking  built_year is_orientation_south has_lift  \\\n",
       "0        126.0         True      1981.0                False    False   \n",
       "1         85.0        False      1950.0                False    False   \n",
       "2         75.0         True      1984.0                False    False   \n",
       "3         70.0        False      1968.0                 True    False   \n",
       "4         75.0        False      2008.0                 True     True   \n",
       "\n",
       "  has_central_heating  log_price  \n",
       "0               False  12.180755  \n",
       "1               False  11.786001  \n",
       "2               False  11.835009  \n",
       "3               False  11.890677  \n",
       "4               False  11.434964  "
      ]
     },
     "execution_count": 43,
     "metadata": {},
     "output_type": "execute_result"
    }
   ],
   "source": [
    "data_no_multicollinearity.head()"
   ]
  },
  {
   "cell_type": "code",
   "execution_count": 44,
   "id": "57634249",
   "metadata": {},
   "outputs": [
    {
     "data": {
      "text/html": [
       "<div>\n",
       "<style scoped>\n",
       "    .dataframe tbody tr th:only-of-type {\n",
       "        vertical-align: middle;\n",
       "    }\n",
       "\n",
       "    .dataframe tbody tr th {\n",
       "        vertical-align: top;\n",
       "    }\n",
       "\n",
       "    .dataframe thead th {\n",
       "        text-align: right;\n",
       "    }\n",
       "</style>\n",
       "<table border=\"1\" class=\"dataframe\">\n",
       "  <thead>\n",
       "    <tr style=\"text-align: right;\">\n",
       "      <th></th>\n",
       "      <th>sq_mt_built</th>\n",
       "      <th>built_year</th>\n",
       "      <th>log_price</th>\n",
       "      <th>has_parking_True</th>\n",
       "      <th>is_orientation_south_True</th>\n",
       "      <th>has_lift_True</th>\n",
       "      <th>has_central_heating_True</th>\n",
       "    </tr>\n",
       "  </thead>\n",
       "  <tbody>\n",
       "    <tr>\n",
       "      <th>0</th>\n",
       "      <td>126.0</td>\n",
       "      <td>1981.0</td>\n",
       "      <td>12.180755</td>\n",
       "      <td>1</td>\n",
       "      <td>0</td>\n",
       "      <td>0</td>\n",
       "      <td>0</td>\n",
       "    </tr>\n",
       "    <tr>\n",
       "      <th>1</th>\n",
       "      <td>85.0</td>\n",
       "      <td>1950.0</td>\n",
       "      <td>11.786001</td>\n",
       "      <td>0</td>\n",
       "      <td>0</td>\n",
       "      <td>0</td>\n",
       "      <td>0</td>\n",
       "    </tr>\n",
       "    <tr>\n",
       "      <th>2</th>\n",
       "      <td>75.0</td>\n",
       "      <td>1984.0</td>\n",
       "      <td>11.835009</td>\n",
       "      <td>1</td>\n",
       "      <td>0</td>\n",
       "      <td>0</td>\n",
       "      <td>0</td>\n",
       "    </tr>\n",
       "    <tr>\n",
       "      <th>3</th>\n",
       "      <td>70.0</td>\n",
       "      <td>1968.0</td>\n",
       "      <td>11.890677</td>\n",
       "      <td>0</td>\n",
       "      <td>1</td>\n",
       "      <td>0</td>\n",
       "      <td>0</td>\n",
       "    </tr>\n",
       "    <tr>\n",
       "      <th>4</th>\n",
       "      <td>75.0</td>\n",
       "      <td>2008.0</td>\n",
       "      <td>11.434964</td>\n",
       "      <td>0</td>\n",
       "      <td>1</td>\n",
       "      <td>1</td>\n",
       "      <td>0</td>\n",
       "    </tr>\n",
       "  </tbody>\n",
       "</table>\n",
       "</div>"
      ],
      "text/plain": [
       "   sq_mt_built  built_year  log_price  has_parking_True  \\\n",
       "0        126.0      1981.0  12.180755                 1   \n",
       "1         85.0      1950.0  11.786001                 0   \n",
       "2         75.0      1984.0  11.835009                 1   \n",
       "3         70.0      1968.0  11.890677                 0   \n",
       "4         75.0      2008.0  11.434964                 0   \n",
       "\n",
       "   is_orientation_south_True  has_lift_True  has_central_heating_True  \n",
       "0                          0              0                         0  \n",
       "1                          0              0                         0  \n",
       "2                          0              0                         0  \n",
       "3                          1              0                         0  \n",
       "4                          1              1                         0  "
      ]
     },
     "execution_count": 44,
     "metadata": {},
     "output_type": "execute_result"
    }
   ],
   "source": [
    "dummy_data = pd.get_dummies(data = data_no_multicollinearity,\n",
    "                                   columns = ['has_parking', 'is_orientation_south',\n",
    "                                    'has_lift', 'has_central_heating'], drop_first=True)\n",
    "\n",
    "dummy_data.head()"
   ]
  },
  {
   "cell_type": "code",
   "execution_count": 45,
   "id": "24c54fce",
   "metadata": {},
   "outputs": [
    {
     "data": {
      "text/html": [
       "<div>\n",
       "<style scoped>\n",
       "    .dataframe tbody tr th:only-of-type {\n",
       "        vertical-align: middle;\n",
       "    }\n",
       "\n",
       "    .dataframe tbody tr th {\n",
       "        vertical-align: top;\n",
       "    }\n",
       "\n",
       "    .dataframe thead th {\n",
       "        text-align: right;\n",
       "    }\n",
       "</style>\n",
       "<table border=\"1\" class=\"dataframe\">\n",
       "  <thead>\n",
       "    <tr style=\"text-align: right;\">\n",
       "      <th></th>\n",
       "      <th>log_price</th>\n",
       "      <th>sq_mt_built</th>\n",
       "      <th>built_year</th>\n",
       "      <th>has_parking_True</th>\n",
       "      <th>is_orientation_south_True</th>\n",
       "      <th>has_lift_True</th>\n",
       "      <th>has_central_heating_True</th>\n",
       "    </tr>\n",
       "  </thead>\n",
       "  <tbody>\n",
       "    <tr>\n",
       "      <th>0</th>\n",
       "      <td>12.180755</td>\n",
       "      <td>126.0</td>\n",
       "      <td>1981.0</td>\n",
       "      <td>1</td>\n",
       "      <td>0</td>\n",
       "      <td>0</td>\n",
       "      <td>0</td>\n",
       "    </tr>\n",
       "    <tr>\n",
       "      <th>1</th>\n",
       "      <td>11.786001</td>\n",
       "      <td>85.0</td>\n",
       "      <td>1950.0</td>\n",
       "      <td>0</td>\n",
       "      <td>0</td>\n",
       "      <td>0</td>\n",
       "      <td>0</td>\n",
       "    </tr>\n",
       "    <tr>\n",
       "      <th>2</th>\n",
       "      <td>11.835009</td>\n",
       "      <td>75.0</td>\n",
       "      <td>1984.0</td>\n",
       "      <td>1</td>\n",
       "      <td>0</td>\n",
       "      <td>0</td>\n",
       "      <td>0</td>\n",
       "    </tr>\n",
       "    <tr>\n",
       "      <th>3</th>\n",
       "      <td>11.890677</td>\n",
       "      <td>70.0</td>\n",
       "      <td>1968.0</td>\n",
       "      <td>0</td>\n",
       "      <td>1</td>\n",
       "      <td>0</td>\n",
       "      <td>0</td>\n",
       "    </tr>\n",
       "    <tr>\n",
       "      <th>4</th>\n",
       "      <td>11.434964</td>\n",
       "      <td>75.0</td>\n",
       "      <td>2008.0</td>\n",
       "      <td>0</td>\n",
       "      <td>1</td>\n",
       "      <td>1</td>\n",
       "      <td>0</td>\n",
       "    </tr>\n",
       "  </tbody>\n",
       "</table>\n",
       "</div>"
      ],
      "text/plain": [
       "   log_price  sq_mt_built  built_year  has_parking_True  \\\n",
       "0  12.180755        126.0      1981.0                 1   \n",
       "1  11.786001         85.0      1950.0                 0   \n",
       "2  11.835009         75.0      1984.0                 1   \n",
       "3  11.890677         70.0      1968.0                 0   \n",
       "4  11.434964         75.0      2008.0                 0   \n",
       "\n",
       "   is_orientation_south_True  has_lift_True  has_central_heating_True  \n",
       "0                          0              0                         0  \n",
       "1                          0              0                         0  \n",
       "2                          0              0                         0  \n",
       "3                          1              0                         0  \n",
       "4                          1              1                         0  "
      ]
     },
     "execution_count": 45,
     "metadata": {},
     "output_type": "execute_result"
    }
   ],
   "source": [
    "dummy_data.columns.values\n",
    "columns = ['log_price', 'sq_mt_built', 'built_year','has_parking_True', 'is_orientation_south_True', 'has_lift_True',\n",
    "       'has_central_heating_True']\n",
    "data_preprocessed = dummy_data[columns]\n",
    "data_preprocessed.head()"
   ]
  },
  {
   "cell_type": "code",
   "execution_count": 46,
   "id": "430b791b",
   "metadata": {},
   "outputs": [],
   "source": [
    "targets = data_preprocessed['log_price']\n",
    "inputs = data_preprocessed.drop(['log_price'],axis=1)"
   ]
  },
  {
   "cell_type": "code",
   "execution_count": 47,
   "id": "3f6cb362",
   "metadata": {},
   "outputs": [],
   "source": [
    "from sklearn.preprocessing import StandardScaler\n",
    "scaler = StandardScaler()\n",
    "scaler.fit(inputs)\n",
    "inputs_scaled = scaler.transform(inputs)"
   ]
  },
  {
   "cell_type": "code",
   "execution_count": 48,
   "id": "e6f5a91f",
   "metadata": {},
   "outputs": [
    {
     "name": "stdout",
     "output_type": "stream",
     "text": [
      "(3960, 6) (3960,)\n",
      "(991, 6) (991,)\n"
     ]
    }
   ],
   "source": [
    "from sklearn.model_selection import train_test_split\n",
    "x_train, x_test, y_train, y_test = train_test_split(inputs_scaled, targets, test_size=0.2, random_state=42)\n",
    "print (x_train.shape, y_train.shape)\n",
    "print (x_test.shape, y_test.shape)"
   ]
  },
  {
   "cell_type": "code",
   "execution_count": 49,
   "id": "0c27ddac",
   "metadata": {},
   "outputs": [],
   "source": [
    "from sklearn import linear_model\n",
    "from sklearn.linear_model import LinearRegression\n",
    "reg = LinearRegression()\n",
    "reg.fit(x_train,y_train)\n",
    "y_hat = reg.predict(x_train)"
   ]
  },
  {
   "cell_type": "code",
   "execution_count": 50,
   "id": "2df404ce",
   "metadata": {},
   "outputs": [
    {
     "data": {
      "image/png": "[encoded data removed]",
      "text/plain": [
       "<Figure size 432x288 with 1 Axes>"
      ]
     },
     "metadata": {
      "needs_background": "light"
     },
     "output_type": "display_data"
    }
   ],
   "source": [
    "plt.scatter(y_train, y_hat)\n",
    "plt.xlabel('Targets (y_train)',size=18)\n",
    "plt.ylabel('Predictions (y_hat)',size=18)\n",
    "plt.xlim(10,17)\n",
    "plt.ylim(10,17)\n",
    "plt.show()"
   ]
  },
  {
   "cell_type": "code",
   "execution_count": 51,
   "id": "7fbfd6b8",
   "metadata": {},
   "outputs": [
    {
     "data": {
      "text/plain": [
       "Text(0.5, 1.0, 'Residuals PDF')"
      ]
     },
     "execution_count": 51,
     "metadata": {},
     "output_type": "execute_result"
    },
    {
     "data": {
      "image/png": "[encoded data removed]",
      "text/plain": [
       "<Figure size 432x288 with 1 Axes>"
      ]
     },
     "metadata": {
      "needs_background": "light"
     },
     "output_type": "display_data"
    }
   ],
   "source": [
    "sns.histplot(y_train - y_hat, kde=True, stat=\"density\", linewidth=0)\n",
    "plt.title(\"Residuals PDF\", size=18)\n",
    "\n"
   ]
  },
  {
   "cell_type": "code",
   "execution_count": 52,
   "id": "7e9aa036",
   "metadata": {},
   "outputs": [
    {
     "data": {
      "text/plain": [
       "0.7474499167650566"
      ]
     },
     "execution_count": 52,
     "metadata": {},
     "output_type": "execute_result"
    }
   ],
   "source": [
    "reg.score(x_train,y_train)\n"
   ]
  },
  {
   "cell_type": "code",
   "execution_count": 53,
   "id": "5ef53c00",
   "metadata": {},
   "outputs": [
    {
     "data": {
      "text/plain": [
       "12.8878310313894"
      ]
     },
     "execution_count": 53,
     "metadata": {},
     "output_type": "execute_result"
    }
   ],
   "source": [
    "reg.intercept_"
   ]
  },
  {
   "cell_type": "code",
   "execution_count": 54,
   "id": "12a8ddc7",
   "metadata": {},
   "outputs": [
    {
     "data": {
      "text/plain": [
       "array([ 0.50794724, -0.15079158,  0.07726168, -0.01185917,  0.19933847,\n",
       "        0.04389051])"
      ]
     },
     "execution_count": 54,
     "metadata": {},
     "output_type": "execute_result"
    }
   ],
   "source": [
    "reg.coef_"
   ]
  },
  {
   "cell_type": "code",
   "execution_count": 55,
   "id": "9f7b6abd",
   "metadata": {},
   "outputs": [
    {
     "data": {
      "text/html": [
       "<div>\n",
       "<style scoped>\n",
       "    .dataframe tbody tr th:only-of-type {\n",
       "        vertical-align: middle;\n",
       "    }\n",
       "\n",
       "    .dataframe tbody tr th {\n",
       "        vertical-align: top;\n",
       "    }\n",
       "\n",
       "    .dataframe thead th {\n",
       "        text-align: right;\n",
       "    }\n",
       "</style>\n",
       "<table border=\"1\" class=\"dataframe\">\n",
       "  <thead>\n",
       "    <tr style=\"text-align: right;\">\n",
       "      <th></th>\n",
       "      <th>Features</th>\n",
       "      <th>Weights</th>\n",
       "    </tr>\n",
       "  </thead>\n",
       "  <tbody>\n",
       "    <tr>\n",
       "      <th>0</th>\n",
       "      <td>sq_mt_built</td>\n",
       "      <td>0.507947</td>\n",
       "    </tr>\n",
       "    <tr>\n",
       "      <th>1</th>\n",
       "      <td>built_year</td>\n",
       "      <td>-0.150792</td>\n",
       "    </tr>\n",
       "    <tr>\n",
       "      <th>2</th>\n",
       "      <td>has_parking_True</td>\n",
       "      <td>0.077262</td>\n",
       "    </tr>\n",
       "    <tr>\n",
       "      <th>3</th>\n",
       "      <td>is_orientation_south_True</td>\n",
       "      <td>-0.011859</td>\n",
       "    </tr>\n",
       "    <tr>\n",
       "      <th>4</th>\n",
       "      <td>has_lift_True</td>\n",
       "      <td>0.199338</td>\n",
       "    </tr>\n",
       "    <tr>\n",
       "      <th>5</th>\n",
       "      <td>has_central_heating_True</td>\n",
       "      <td>0.043891</td>\n",
       "    </tr>\n",
       "  </tbody>\n",
       "</table>\n",
       "</div>"
      ],
      "text/plain": [
       "                    Features   Weights\n",
       "0                sq_mt_built  0.507947\n",
       "1                 built_year -0.150792\n",
       "2           has_parking_True  0.077262\n",
       "3  is_orientation_south_True -0.011859\n",
       "4              has_lift_True  0.199338\n",
       "5   has_central_heating_True  0.043891"
      ]
     },
     "execution_count": 55,
     "metadata": {},
     "output_type": "execute_result"
    }
   ],
   "source": [
    "reg_summary = pd.DataFrame(inputs.columns.values, columns=['Features'])\n",
    "reg_summary['Weights'] = reg.coef_\n",
    "reg_summary"
   ]
  },
  {
   "cell_type": "code",
   "execution_count": 56,
   "id": "5e858125",
   "metadata": {},
   "outputs": [],
   "source": [
    "y_hat_test = reg.predict(x_test)"
   ]
  },
  {
   "cell_type": "code",
   "execution_count": 57,
   "id": "7b448cdd",
   "metadata": {},
   "outputs": [
    {
     "data": {
      "image/png": "[encoded data removed]",
      "text/plain": [
       "<Figure size 432x288 with 1 Axes>"
      ]
     },
     "metadata": {
      "needs_background": "light"
     },
     "output_type": "display_data"
    }
   ],
   "source": [
    "plt.scatter(y_test, y_hat_test, alpha=0.2)\n",
    "plt.xlabel('Targets (y_test)',size=18)\n",
    "plt.ylabel('Predictions (y_hat_test)',size=18)\n",
    "plt.xlim(10,17)\n",
    "plt.ylim(10,17)\n",
    "plt.show()"
   ]
  },
  {
   "cell_type": "code",
   "execution_count": 58,
   "id": "12b2d827",
   "metadata": {},
   "outputs": [
    {
     "data": {
      "text/html": [
       "<div>\n",
       "<style scoped>\n",
       "    .dataframe tbody tr th:only-of-type {\n",
       "        vertical-align: middle;\n",
       "    }\n",
       "\n",
       "    .dataframe tbody tr th {\n",
       "        vertical-align: top;\n",
       "    }\n",
       "\n",
       "    .dataframe thead th {\n",
       "        text-align: right;\n",
       "    }\n",
       "</style>\n",
       "<table border=\"1\" class=\"dataframe\">\n",
       "  <thead>\n",
       "    <tr style=\"text-align: right;\">\n",
       "      <th></th>\n",
       "      <th>Prediction</th>\n",
       "      <th>Target</th>\n",
       "      <th>Residual</th>\n",
       "      <th>Difference%</th>\n",
       "    </tr>\n",
       "  </thead>\n",
       "  <tbody>\n",
       "    <tr>\n",
       "      <th>0</th>\n",
       "      <td>345251.997295</td>\n",
       "      <td>280000.0</td>\n",
       "      <td>-65251.997295</td>\n",
       "      <td>23.304285</td>\n",
       "    </tr>\n",
       "    <tr>\n",
       "      <th>1</th>\n",
       "      <td>382536.754724</td>\n",
       "      <td>244500.0</td>\n",
       "      <td>-138036.754724</td>\n",
       "      <td>56.456750</td>\n",
       "    </tr>\n",
       "    <tr>\n",
       "      <th>2</th>\n",
       "      <td>483645.739863</td>\n",
       "      <td>685000.0</td>\n",
       "      <td>201354.260137</td>\n",
       "      <td>29.394783</td>\n",
       "    </tr>\n",
       "    <tr>\n",
       "      <th>3</th>\n",
       "      <td>355327.678634</td>\n",
       "      <td>170000.0</td>\n",
       "      <td>-185327.678634</td>\n",
       "      <td>109.016282</td>\n",
       "    </tr>\n",
       "    <tr>\n",
       "      <th>4</th>\n",
       "      <td>750403.337859</td>\n",
       "      <td>795000.0</td>\n",
       "      <td>44596.662141</td>\n",
       "      <td>5.609643</td>\n",
       "    </tr>\n",
       "    <tr>\n",
       "      <th>...</th>\n",
       "      <td>...</td>\n",
       "      <td>...</td>\n",
       "      <td>...</td>\n",
       "      <td>...</td>\n",
       "    </tr>\n",
       "    <tr>\n",
       "      <th>986</th>\n",
       "      <td>398965.947594</td>\n",
       "      <td>649999.0</td>\n",
       "      <td>251033.052406</td>\n",
       "      <td>38.620529</td>\n",
       "    </tr>\n",
       "    <tr>\n",
       "      <th>987</th>\n",
       "      <td>162693.424526</td>\n",
       "      <td>127500.0</td>\n",
       "      <td>-35193.424526</td>\n",
       "      <td>27.602686</td>\n",
       "    </tr>\n",
       "    <tr>\n",
       "      <th>988</th>\n",
       "      <td>173741.451178</td>\n",
       "      <td>170000.0</td>\n",
       "      <td>-3741.451178</td>\n",
       "      <td>2.200854</td>\n",
       "    </tr>\n",
       "    <tr>\n",
       "      <th>989</th>\n",
       "      <td>393528.620761</td>\n",
       "      <td>435000.0</td>\n",
       "      <td>41471.379239</td>\n",
       "      <td>9.533650</td>\n",
       "    </tr>\n",
       "    <tr>\n",
       "      <th>990</th>\n",
       "      <td>160079.855870</td>\n",
       "      <td>126000.0</td>\n",
       "      <td>-34079.855870</td>\n",
       "      <td>27.047505</td>\n",
       "    </tr>\n",
       "  </tbody>\n",
       "</table>\n",
       "<p>991 rows × 4 columns</p>\n",
       "</div>"
      ],
      "text/plain": [
       "        Prediction    Target       Residual  Difference%\n",
       "0    345251.997295  280000.0  -65251.997295    23.304285\n",
       "1    382536.754724  244500.0 -138036.754724    56.456750\n",
       "2    483645.739863  685000.0  201354.260137    29.394783\n",
       "3    355327.678634  170000.0 -185327.678634   109.016282\n",
       "4    750403.337859  795000.0   44596.662141     5.609643\n",
       "..             ...       ...            ...          ...\n",
       "986  398965.947594  649999.0  251033.052406    38.620529\n",
       "987  162693.424526  127500.0  -35193.424526    27.602686\n",
       "988  173741.451178  170000.0   -3741.451178     2.200854\n",
       "989  393528.620761  435000.0   41471.379239     9.533650\n",
       "990  160079.855870  126000.0  -34079.855870    27.047505\n",
       "\n",
       "[991 rows x 4 columns]"
      ]
     },
     "execution_count": 58,
     "metadata": {},
     "output_type": "execute_result"
    }
   ],
   "source": [
    "df_pf = pd.DataFrame(np.exp(y_hat_test), columns=['Prediction'])\n",
    "y_test = y_test.reset_index(drop=True)\n",
    "\n",
    "df_pf['Target'] = np.exp(y_test)\n",
    "df_pf['Residual'] = df_pf['Target'] - df_pf['Prediction']\n",
    "df_pf['Difference%'] = np.absolute(df_pf['Residual']/df_pf['Target']*100)\n",
    "df_pf"
   ]
  },
  {
   "cell_type": "code",
   "execution_count": 59,
   "id": "563611d3",
   "metadata": {},
   "outputs": [
    {
     "data": {
      "text/html": [
       "<div>\n",
       "<style scoped>\n",
       "    .dataframe tbody tr th:only-of-type {\n",
       "        vertical-align: middle;\n",
       "    }\n",
       "\n",
       "    .dataframe tbody tr th {\n",
       "        vertical-align: top;\n",
       "    }\n",
       "\n",
       "    .dataframe thead th {\n",
       "        text-align: right;\n",
       "    }\n",
       "</style>\n",
       "<table border=\"1\" class=\"dataframe\">\n",
       "  <thead>\n",
       "    <tr style=\"text-align: right;\">\n",
       "      <th></th>\n",
       "      <th>Prediction</th>\n",
       "      <th>Target</th>\n",
       "      <th>Residual</th>\n",
       "      <th>Difference%</th>\n",
       "    </tr>\n",
       "  </thead>\n",
       "  <tbody>\n",
       "    <tr>\n",
       "      <th>count</th>\n",
       "      <td>9.910000e+02</td>\n",
       "      <td>9.910000e+02</td>\n",
       "      <td>9.910000e+02</td>\n",
       "      <td>991.000000</td>\n",
       "    </tr>\n",
       "    <tr>\n",
       "      <th>mean</th>\n",
       "      <td>5.389979e+05</td>\n",
       "      <td>5.169868e+05</td>\n",
       "      <td>-2.201108e+04</td>\n",
       "      <td>32.671114</td>\n",
       "    </tr>\n",
       "    <tr>\n",
       "      <th>std</th>\n",
       "      <td>8.071745e+05</td>\n",
       "      <td>4.167864e+05</td>\n",
       "      <td>6.234530e+05</td>\n",
       "      <td>36.878944</td>\n",
       "    </tr>\n",
       "    <tr>\n",
       "      <th>min</th>\n",
       "      <td>1.026857e+05</td>\n",
       "      <td>7.000000e+04</td>\n",
       "      <td>-1.424118e+07</td>\n",
       "      <td>0.088503</td>\n",
       "    </tr>\n",
       "    <tr>\n",
       "      <th>25%</th>\n",
       "      <td>2.603224e+05</td>\n",
       "      <td>2.250000e+05</td>\n",
       "      <td>-6.951784e+04</td>\n",
       "      <td>12.631009</td>\n",
       "    </tr>\n",
       "    <tr>\n",
       "      <th>50%</th>\n",
       "      <td>3.629505e+05</td>\n",
       "      <td>3.750000e+05</td>\n",
       "      <td>2.614030e+03</td>\n",
       "      <td>24.724170</td>\n",
       "    </tr>\n",
       "    <tr>\n",
       "      <th>75%</th>\n",
       "      <td>5.437427e+05</td>\n",
       "      <td>6.950000e+05</td>\n",
       "      <td>1.065040e+05</td>\n",
       "      <td>41.028604</td>\n",
       "    </tr>\n",
       "    <tr>\n",
       "      <th>max</th>\n",
       "      <td>1.649118e+07</td>\n",
       "      <td>2.300000e+06</td>\n",
       "      <td>1.178302e+06</td>\n",
       "      <td>632.941209</td>\n",
       "    </tr>\n",
       "  </tbody>\n",
       "</table>\n",
       "</div>"
      ],
      "text/plain": [
       "         Prediction        Target      Residual  Difference%\n",
       "count  9.910000e+02  9.910000e+02  9.910000e+02   991.000000\n",
       "mean   5.389979e+05  5.169868e+05 -2.201108e+04    32.671114\n",
       "std    8.071745e+05  4.167864e+05  6.234530e+05    36.878944\n",
       "min    1.026857e+05  7.000000e+04 -1.424118e+07     0.088503\n",
       "25%    2.603224e+05  2.250000e+05 -6.951784e+04    12.631009\n",
       "50%    3.629505e+05  3.750000e+05  2.614030e+03    24.724170\n",
       "75%    5.437427e+05  6.950000e+05  1.065040e+05    41.028604\n",
       "max    1.649118e+07  2.300000e+06  1.178302e+06   632.941209"
      ]
     },
     "execution_count": 59,
     "metadata": {},
     "output_type": "execute_result"
    }
   ],
   "source": [
    "df_pf.describe()"
   ]
  },
  {
   "cell_type": "code",
   "execution_count": 60,
   "id": "be2b98b2",
   "metadata": {},
   "outputs": [
    {
     "data": {
      "text/html": [
       "<div>\n",
       "<style scoped>\n",
       "    .dataframe tbody tr th:only-of-type {\n",
       "        vertical-align: middle;\n",
       "    }\n",
       "\n",
       "    .dataframe tbody tr th {\n",
       "        vertical-align: top;\n",
       "    }\n",
       "\n",
       "    .dataframe thead th {\n",
       "        text-align: right;\n",
       "    }\n",
       "</style>\n",
       "<table border=\"1\" class=\"dataframe\">\n",
       "  <thead>\n",
       "    <tr style=\"text-align: right;\">\n",
       "      <th></th>\n",
       "      <th>Prediction</th>\n",
       "      <th>Target</th>\n",
       "      <th>Residual</th>\n",
       "      <th>Difference%</th>\n",
       "    </tr>\n",
       "  </thead>\n",
       "  <tbody>\n",
       "    <tr>\n",
       "      <th>375</th>\n",
       "      <td>16491177.19</td>\n",
       "      <td>2250000.00</td>\n",
       "      <td>-14241177.19</td>\n",
       "      <td>632.94</td>\n",
       "    </tr>\n",
       "    <tr>\n",
       "      <th>285</th>\n",
       "      <td>9555616.09</td>\n",
       "      <td>2200000.00</td>\n",
       "      <td>-7355616.09</td>\n",
       "      <td>334.35</td>\n",
       "    </tr>\n",
       "    <tr>\n",
       "      <th>816</th>\n",
       "      <td>7247738.09</td>\n",
       "      <td>1890000.00</td>\n",
       "      <td>-5357738.09</td>\n",
       "      <td>283.48</td>\n",
       "    </tr>\n",
       "    <tr>\n",
       "      <th>419</th>\n",
       "      <td>272736.62</td>\n",
       "      <td>73000.00</td>\n",
       "      <td>-199736.62</td>\n",
       "      <td>273.61</td>\n",
       "    </tr>\n",
       "    <tr>\n",
       "      <th>361</th>\n",
       "      <td>5069647.36</td>\n",
       "      <td>1495000.00</td>\n",
       "      <td>-3574647.36</td>\n",
       "      <td>239.11</td>\n",
       "    </tr>\n",
       "    <tr>\n",
       "      <th>...</th>\n",
       "      <td>...</td>\n",
       "      <td>...</td>\n",
       "      <td>...</td>\n",
       "      <td>...</td>\n",
       "    </tr>\n",
       "    <tr>\n",
       "      <th>180</th>\n",
       "      <td>343991.74</td>\n",
       "      <td>345000.00</td>\n",
       "      <td>1008.26</td>\n",
       "      <td>0.29</td>\n",
       "    </tr>\n",
       "    <tr>\n",
       "      <th>959</th>\n",
       "      <td>264407.82</td>\n",
       "      <td>265000.00</td>\n",
       "      <td>592.18</td>\n",
       "      <td>0.22</td>\n",
       "    </tr>\n",
       "    <tr>\n",
       "      <th>111</th>\n",
       "      <td>159645.35</td>\n",
       "      <td>159900.00</td>\n",
       "      <td>254.65</td>\n",
       "      <td>0.16</td>\n",
       "    </tr>\n",
       "    <tr>\n",
       "      <th>348</th>\n",
       "      <td>590569.71</td>\n",
       "      <td>590000.00</td>\n",
       "      <td>-569.71</td>\n",
       "      <td>0.10</td>\n",
       "    </tr>\n",
       "    <tr>\n",
       "      <th>822</th>\n",
       "      <td>219193.82</td>\n",
       "      <td>219000.00</td>\n",
       "      <td>-193.82</td>\n",
       "      <td>0.09</td>\n",
       "    </tr>\n",
       "  </tbody>\n",
       "</table>\n",
       "<p>991 rows × 4 columns</p>\n",
       "</div>"
      ],
      "text/plain": [
       "     Prediction     Target     Residual  Difference%\n",
       "375 16491177.19 2250000.00 -14241177.19       632.94\n",
       "285  9555616.09 2200000.00  -7355616.09       334.35\n",
       "816  7247738.09 1890000.00  -5357738.09       283.48\n",
       "419   272736.62   73000.00   -199736.62       273.61\n",
       "361  5069647.36 1495000.00  -3574647.36       239.11\n",
       "..          ...        ...          ...          ...\n",
       "180   343991.74  345000.00      1008.26         0.29\n",
       "959   264407.82  265000.00       592.18         0.22\n",
       "111   159645.35  159900.00       254.65         0.16\n",
       "348   590569.71  590000.00      -569.71         0.10\n",
       "822   219193.82  219000.00      -193.82         0.09\n",
       "\n",
       "[991 rows x 4 columns]"
      ]
     },
     "execution_count": 60,
     "metadata": {},
     "output_type": "execute_result"
    }
   ],
   "source": [
    "pd.options.display.max_rows = 20\n",
    "pd.set_option('display.float_format', lambda x: '%.2f' % x)\n",
    "df_pf.sort_values(by=['Difference%'], ascending = False)"
   ]
  },
  {
   "cell_type": "code",
   "execution_count": 61,
   "id": "0b5b4de3",
   "metadata": {},
   "outputs": [
    {
     "name": "stdout",
     "output_type": "stream",
     "text": [
      "Mean Absolute Error: 0.3000163942853142\n",
      "Mean Squared Error: 0.14391213960149885\n",
      "R-squared score 0.67\n",
      "Adjusted R-squared score 0.67\n"
     ]
    }
   ],
   "source": [
    "from sklearn import metrics\n",
    "print('Mean Absolute Error:', metrics.mean_absolute_error(y_hat_test, y_test))\n",
    "print('Mean Squared Error:', metrics.mean_squared_error(y_hat_test, y_test))\n",
    "\n",
    "from sklearn.metrics import r2_score\n",
    "r2 = r2_score (y_hat_test, y_test)\n",
    "\n",
    "print ('R-squared score', round (r2,2))\n",
    "\n",
    "#adjusted R-squared:\n",
    "adj_r2 = 1 - (1 - r2) * (254-1)/(254 - 6 - 1)\n",
    "print ('Adjusted R-squared score', round (adj_r2,2))"
   ]
  },
  {
   "cell_type": "code",
   "execution_count": 63,
   "id": "c000e0a8",
   "metadata": {},
   "outputs": [
    {
     "name": "stdout",
     "output_type": "stream",
     "text": [
      "Collecting catboost\n",
      "  Downloading catboost-1.0.6-cp38-none-win_amd64.whl (73.9 MB)\n",
      "Requirement already satisfied: scipy in c:\\users\\abdel\\anaconda3\\lib\\site-packages (from catboost) (1.6.2)\n",
      "Requirement already satisfied: plotly in c:\\users\\abdel\\anaconda3\\lib\\site-packages (from catboost) (5.3.1)\n",
      "Requirement already satisfied: pandas>=0.24.0 in c:\\users\\abdel\\anaconda3\\lib\\site-packages (from catboost) (1.2.4)\n",
      "Requirement already satisfied: matplotlib in c:\\users\\abdel\\anaconda3\\lib\\site-packages (from catboost) (3.3.4)\n",
      "Requirement already satisfied: six in c:\\users\\abdel\\anaconda3\\lib\\site-packages (from catboost) (1.15.0)\n",
      "Collecting graphviz\n",
      "  Downloading graphviz-0.20-py3-none-any.whl (46 kB)\n",
      "Requirement already satisfied: numpy>=1.16.0 in c:\\users\\abdel\\anaconda3\\lib\\site-packages (from catboost) (1.20.1)\n",
      "Requirement already satisfied: pytz>=2017.3 in c:\\users\\abdel\\anaconda3\\lib\\site-packages (from pandas>=0.24.0->catboost) (2021.1)\n",
      "Requirement already satisfied: python-dateutil>=2.7.3 in c:\\users\\abdel\\anaconda3\\lib\\site-packages (from pandas>=0.24.0->catboost) (2.8.1)\n",
      "Requirement already satisfied: pillow>=6.2.0 in c:\\users\\abdel\\anaconda3\\lib\\site-packages (from matplotlib->catboost) (8.2.0)\n",
      "Requirement already satisfied: cycler>=0.10 in c:\\users\\abdel\\anaconda3\\lib\\site-packages (from matplotlib->catboost) (0.10.0)\n",
      "Requirement already satisfied: kiwisolver>=1.0.1 in c:\\users\\abdel\\anaconda3\\lib\\site-packages (from matplotlib->catboost) (1.3.1)\n",
      "Requirement already satisfied: pyparsing!=2.0.4,!=2.1.2,!=2.1.6,>=2.0.3 in c:\\users\\abdel\\anaconda3\\lib\\site-packages (from matplotlib->catboost) (2.4.7)\n",
      "Requirement already satisfied: tenacity>=6.2.0 in c:\\users\\abdel\\anaconda3\\lib\\site-packages (from plotly->catboost) (8.0.1)\n",
      "Installing collected packages: graphviz, catboost\n",
      "Successfully installed catboost-1.0.6 graphviz-0.20\n",
      "Note: you may need to restart the kernel to use updated packages.\n"
     ]
    }
   ],
   "source": [
    "pip install catboost"
   ]
  },
  {
   "cell_type": "code",
   "execution_count": 64,
   "id": "f18ef7fb",
   "metadata": {},
   "outputs": [],
   "source": [
    "from catboost import CatBoostRegressor"
   ]
  },
  {
   "cell_type": "code",
   "execution_count": 69,
   "id": "29bdf298",
   "metadata": {},
   "outputs": [],
   "source": [
    "from sklearn.model_selection import RandomizedSearchCV\n"
   ]
  },
  {
   "cell_type": "code",
   "execution_count": 70,
   "id": "1999af31",
   "metadata": {},
   "outputs": [],
   "source": [
    "import time\n",
    "start = time.time()\n",
    "cb=CatBoostRegressor()"
   ]
  },
  {
   "cell_type": "code",
   "execution_count": 71,
   "id": "1c16e1db",
   "metadata": {},
   "outputs": [],
   "source": [
    "#parameters to vary as in technique 2\n",
    "grid = {'learning_rate': [0.03, 0.1],\n",
    "        'depth': [4, 6, 10],\n",
    "        'l2_leaf_reg': [1, 3, 5, 7, 9]}"
   ]
  },
  {
   "cell_type": "code",
   "execution_count": 72,
   "id": "df1d046b",
   "metadata": {},
   "outputs": [],
   "source": [
    "cb = RandomizedSearchCV(estimator = cb, param_distributions = grid,scoring='neg_mean_squared_error', \n",
    "                        n_iter = 10, cv = 2, random_state=42, n_jobs = -1,)"
   ]
  },
  {
   "cell_type": "code",
   "execution_count": 73,
   "id": "c1cbdac6",
   "metadata": {},
   "outputs": [
    {
     "name": "stderr",
     "output_type": "stream",
     "text": [
      "C:\\Users\\abdel\\anaconda3\\lib\\site-packages\\sklearn\\model_selection\\_search.py:918: UserWarning: One or more of the test scores are non-finite: [-0.10632943         nan         nan -0.1027131  -0.09930914 -0.10154084\n",
      " -0.10033751 -0.10144838 -0.09936756 -0.09969252]\n",
      "  warnings.warn(\n"
     ]
    },
    {
     "name": "stdout",
     "output_type": "stream",
     "text": [
      "Execution time for CB: 51.04 seconds\n"
     ]
    }
   ],
   "source": [
    "cb.fit(x_train,y_train, verbose = False)\n",
    "end = time.time()\n",
    "diff_cb = end - start\n",
    "print ('Execution time for CB:', round(diff_cb,2), 'seconds')"
   ]
  },
  {
   "cell_type": "code",
   "execution_count": 74,
   "id": "b7c86c60",
   "metadata": {},
   "outputs": [
    {
     "data": {
      "text/plain": [
       "{'learning_rate': 0.03, 'l2_leaf_reg': 9, 'depth': 4}"
      ]
     },
     "execution_count": 74,
     "metadata": {},
     "output_type": "execute_result"
    }
   ],
   "source": [
    "cb.best_params_"
   ]
  },
  {
   "cell_type": "code",
   "execution_count": 75,
   "id": "faf899e4",
   "metadata": {},
   "outputs": [],
   "source": [
    "y_hat_cb = cb.predict(x_train)"
   ]
  },
  {
   "cell_type": "code",
   "execution_count": 76,
   "id": "11f95008",
   "metadata": {},
   "outputs": [
    {
     "data": {
      "image/png": "[encoded data removed]",
      "text/plain": [
       "<Figure size 432x288 with 1 Axes>"
      ]
     },
     "metadata": {
      "needs_background": "light"
     },
     "output_type": "display_data"
    }
   ],
   "source": [
    "plt.scatter(y_train, y_hat_cb)\n",
    "\n",
    "plt.xlabel('Targets (y_train)',size=18)\n",
    "plt.ylabel('Predictions (y_hat_cb)',size=18)\n",
    "\n",
    "\n",
    "plt.xlim(10,17)\n",
    "plt.ylim(10,17)\n",
    "plt.show()"
   ]
  },
  {
   "cell_type": "code",
   "execution_count": 78,
   "id": "03229f62",
   "metadata": {},
   "outputs": [
    {
     "data": {
      "text/plain": [
       "Text(0.5, 1.0, 'Residuals PDF')"
      ]
     },
     "execution_count": 78,
     "metadata": {},
     "output_type": "execute_result"
    },
    {
     "data": {
      "image/png": "[encoded data removed]",
      "text/plain": [
       "<Figure size 432x288 with 1 Axes>"
      ]
     },
     "metadata": {
      "needs_background": "light"
     },
     "output_type": "display_data"
    }
   ],
   "source": [
    "sns.histplot(y_train - y_hat_cb, kde=True, stat=\"density\", linewidth=0)\n",
    "plt.title(\"Residuals PDF\", size=18)"
   ]
  },
  {
   "cell_type": "code",
   "execution_count": 79,
   "id": "8833d723",
   "metadata": {},
   "outputs": [
    {
     "name": "stdout",
     "output_type": "stream",
     "text": [
      "R-squared score 0.85\n"
     ]
    }
   ],
   "source": [
    "from sklearn.metrics import r2_score\n",
    "\n",
    "r2 = r2_score (y_train, y_hat_cb)\n",
    "\n",
    "print ('R-squared score', round (r2,2))"
   ]
  },
  {
   "cell_type": "code",
   "execution_count": 80,
   "id": "eae9be19",
   "metadata": {},
   "outputs": [],
   "source": [
    "y_hat_test_cb=cb.predict(x_test)"
   ]
  },
  {
   "cell_type": "code",
   "execution_count": 81,
   "id": "fe32dc96",
   "metadata": {},
   "outputs": [
    {
     "data": {
      "text/plain": [
       "<AxesSubplot:xlabel='log_price', ylabel='Density'>"
      ]
     },
     "execution_count": 81,
     "metadata": {},
     "output_type": "execute_result"
    },
    {
     "data": {
      "image/png": "[encoded data removed]",
      "text/plain": [
       "<Figure size 432x288 with 1 Axes>"
      ]
     },
     "metadata": {
      "needs_background": "light"
     },
     "output_type": "display_data"
    }
   ],
   "source": [
    "sns.histplot(y_test-y_hat_test_cb, kde=True, stat=\"density\", linewidth=0)"
   ]
  },
  {
   "cell_type": "code",
   "execution_count": 82,
   "id": "66c808eb",
   "metadata": {},
   "outputs": [
    {
     "data": {
      "image/png": "[encoded data removed]",
      "text/plain": [
       "<Figure size 432x288 with 1 Axes>"
      ]
     },
     "metadata": {
      "needs_background": "light"
     },
     "output_type": "display_data"
    }
   ],
   "source": [
    "plt.scatter(y_test,y_hat_test_cb, alpha = 0.2)\n",
    "plt.xlabel('Targets (y_test)',size=18)\n",
    "plt.ylabel('Predictions (y_hat_test_cb)',size=18)\n",
    "plt.xlim(10,17)\n",
    "plt.ylim(10,17)\n",
    "plt.show()"
   ]
  },
  {
   "cell_type": "code",
   "execution_count": 83,
   "id": "95b109cb",
   "metadata": {},
   "outputs": [
    {
     "data": {
      "text/html": [
       "<div>\n",
       "<style scoped>\n",
       "    .dataframe tbody tr th:only-of-type {\n",
       "        vertical-align: middle;\n",
       "    }\n",
       "\n",
       "    .dataframe tbody tr th {\n",
       "        vertical-align: top;\n",
       "    }\n",
       "\n",
       "    .dataframe thead th {\n",
       "        text-align: right;\n",
       "    }\n",
       "</style>\n",
       "<table border=\"1\" class=\"dataframe\">\n",
       "  <thead>\n",
       "    <tr style=\"text-align: right;\">\n",
       "      <th></th>\n",
       "      <th>Prediction</th>\n",
       "      <th>Target</th>\n",
       "      <th>Residual</th>\n",
       "      <th>Difference%</th>\n",
       "    </tr>\n",
       "  </thead>\n",
       "  <tbody>\n",
       "    <tr>\n",
       "      <th>0</th>\n",
       "      <td>355998.10</td>\n",
       "      <td>280000.00</td>\n",
       "      <td>-75998.10</td>\n",
       "      <td>27.14</td>\n",
       "    </tr>\n",
       "    <tr>\n",
       "      <th>1</th>\n",
       "      <td>323566.63</td>\n",
       "      <td>244500.00</td>\n",
       "      <td>-79066.63</td>\n",
       "      <td>32.34</td>\n",
       "    </tr>\n",
       "    <tr>\n",
       "      <th>2</th>\n",
       "      <td>625003.67</td>\n",
       "      <td>685000.00</td>\n",
       "      <td>59996.33</td>\n",
       "      <td>8.76</td>\n",
       "    </tr>\n",
       "    <tr>\n",
       "      <th>3</th>\n",
       "      <td>345747.64</td>\n",
       "      <td>170000.00</td>\n",
       "      <td>-175747.64</td>\n",
       "      <td>103.38</td>\n",
       "    </tr>\n",
       "    <tr>\n",
       "      <th>4</th>\n",
       "      <td>863430.94</td>\n",
       "      <td>795000.00</td>\n",
       "      <td>-68430.94</td>\n",
       "      <td>8.61</td>\n",
       "    </tr>\n",
       "    <tr>\n",
       "      <th>...</th>\n",
       "      <td>...</td>\n",
       "      <td>...</td>\n",
       "      <td>...</td>\n",
       "      <td>...</td>\n",
       "    </tr>\n",
       "    <tr>\n",
       "      <th>986</th>\n",
       "      <td>412572.11</td>\n",
       "      <td>649999.00</td>\n",
       "      <td>237426.89</td>\n",
       "      <td>36.53</td>\n",
       "    </tr>\n",
       "    <tr>\n",
       "      <th>987</th>\n",
       "      <td>134840.57</td>\n",
       "      <td>127500.00</td>\n",
       "      <td>-7340.57</td>\n",
       "      <td>5.76</td>\n",
       "    </tr>\n",
       "    <tr>\n",
       "      <th>988</th>\n",
       "      <td>154720.16</td>\n",
       "      <td>170000.00</td>\n",
       "      <td>15279.84</td>\n",
       "      <td>8.99</td>\n",
       "    </tr>\n",
       "    <tr>\n",
       "      <th>989</th>\n",
       "      <td>418866.58</td>\n",
       "      <td>435000.00</td>\n",
       "      <td>16133.42</td>\n",
       "      <td>3.71</td>\n",
       "    </tr>\n",
       "    <tr>\n",
       "      <th>990</th>\n",
       "      <td>128788.96</td>\n",
       "      <td>126000.00</td>\n",
       "      <td>-2788.96</td>\n",
       "      <td>2.21</td>\n",
       "    </tr>\n",
       "  </tbody>\n",
       "</table>\n",
       "<p>991 rows × 4 columns</p>\n",
       "</div>"
      ],
      "text/plain": [
       "     Prediction    Target   Residual  Difference%\n",
       "0     355998.10 280000.00  -75998.10        27.14\n",
       "1     323566.63 244500.00  -79066.63        32.34\n",
       "2     625003.67 685000.00   59996.33         8.76\n",
       "3     345747.64 170000.00 -175747.64       103.38\n",
       "4     863430.94 795000.00  -68430.94         8.61\n",
       "..          ...       ...        ...          ...\n",
       "986   412572.11 649999.00  237426.89        36.53\n",
       "987   134840.57 127500.00   -7340.57         5.76\n",
       "988   154720.16 170000.00   15279.84         8.99\n",
       "989   418866.58 435000.00   16133.42         3.71\n",
       "990   128788.96 126000.00   -2788.96         2.21\n",
       "\n",
       "[991 rows x 4 columns]"
      ]
     },
     "execution_count": 83,
     "metadata": {},
     "output_type": "execute_result"
    }
   ],
   "source": [
    "df_pf = pd.DataFrame(np.exp(y_hat_test_cb), columns=['Prediction'])\n",
    "\n",
    "y_test = y_test.reset_index(drop=True)\n",
    "\n",
    "df_pf['Target'] = np.exp(y_test)\n",
    "\n",
    "df_pf['Residual'] = df_pf['Target'] - df_pf['Prediction']\n",
    "\n",
    "\n",
    "df_pf['Difference%'] = np.absolute(df_pf['Residual']/df_pf['Target']*100)\n",
    "df_pf"
   ]
  },
  {
   "cell_type": "code",
   "execution_count": 84,
   "id": "546aacb7",
   "metadata": {},
   "outputs": [
    {
     "data": {
      "text/html": [
       "<div>\n",
       "<style scoped>\n",
       "    .dataframe tbody tr th:only-of-type {\n",
       "        vertical-align: middle;\n",
       "    }\n",
       "\n",
       "    .dataframe tbody tr th {\n",
       "        vertical-align: top;\n",
       "    }\n",
       "\n",
       "    .dataframe thead th {\n",
       "        text-align: right;\n",
       "    }\n",
       "</style>\n",
       "<table border=\"1\" class=\"dataframe\">\n",
       "  <thead>\n",
       "    <tr style=\"text-align: right;\">\n",
       "      <th></th>\n",
       "      <th>Prediction</th>\n",
       "      <th>Target</th>\n",
       "      <th>Residual</th>\n",
       "      <th>Difference%</th>\n",
       "    </tr>\n",
       "  </thead>\n",
       "  <tbody>\n",
       "    <tr>\n",
       "      <th>count</th>\n",
       "      <td>991.00</td>\n",
       "      <td>991.00</td>\n",
       "      <td>991.00</td>\n",
       "      <td>991.00</td>\n",
       "    </tr>\n",
       "    <tr>\n",
       "      <th>mean</th>\n",
       "      <td>507113.73</td>\n",
       "      <td>516986.79</td>\n",
       "      <td>9873.05</td>\n",
       "      <td>26.06</td>\n",
       "    </tr>\n",
       "    <tr>\n",
       "      <th>std</th>\n",
       "      <td>385737.91</td>\n",
       "      <td>416786.40</td>\n",
       "      <td>179504.87</td>\n",
       "      <td>24.53</td>\n",
       "    </tr>\n",
       "    <tr>\n",
       "      <th>min</th>\n",
       "      <td>99174.36</td>\n",
       "      <td>70000.00</td>\n",
       "      <td>-622331.11</td>\n",
       "      <td>0.03</td>\n",
       "    </tr>\n",
       "    <tr>\n",
       "      <th>25%</th>\n",
       "      <td>237841.62</td>\n",
       "      <td>225000.00</td>\n",
       "      <td>-72538.45</td>\n",
       "      <td>9.10</td>\n",
       "    </tr>\n",
       "    <tr>\n",
       "      <th>50%</th>\n",
       "      <td>372617.55</td>\n",
       "      <td>375000.00</td>\n",
       "      <td>-7840.33</td>\n",
       "      <td>20.11</td>\n",
       "    </tr>\n",
       "    <tr>\n",
       "      <th>75%</th>\n",
       "      <td>650765.06</td>\n",
       "      <td>695000.00</td>\n",
       "      <td>80179.33</td>\n",
       "      <td>34.96</td>\n",
       "    </tr>\n",
       "    <tr>\n",
       "      <th>max</th>\n",
       "      <td>2130986.61</td>\n",
       "      <td>2300000.00</td>\n",
       "      <td>1268552.43</td>\n",
       "      <td>160.73</td>\n",
       "    </tr>\n",
       "  </tbody>\n",
       "</table>\n",
       "</div>"
      ],
      "text/plain": [
       "       Prediction     Target   Residual  Difference%\n",
       "count      991.00     991.00     991.00       991.00\n",
       "mean    507113.73  516986.79    9873.05        26.06\n",
       "std     385737.91  416786.40  179504.87        24.53\n",
       "min      99174.36   70000.00 -622331.11         0.03\n",
       "25%     237841.62  225000.00  -72538.45         9.10\n",
       "50%     372617.55  375000.00   -7840.33        20.11\n",
       "75%     650765.06  695000.00   80179.33        34.96\n",
       "max    2130986.61 2300000.00 1268552.43       160.73"
      ]
     },
     "execution_count": 84,
     "metadata": {},
     "output_type": "execute_result"
    }
   ],
   "source": [
    "df_pf.describe()"
   ]
  },
  {
   "cell_type": "code",
   "execution_count": 85,
   "id": "58fd1149",
   "metadata": {},
   "outputs": [
    {
     "data": {
      "text/html": [
       "<div>\n",
       "<style scoped>\n",
       "    .dataframe tbody tr th:only-of-type {\n",
       "        vertical-align: middle;\n",
       "    }\n",
       "\n",
       "    .dataframe tbody tr th {\n",
       "        vertical-align: top;\n",
       "    }\n",
       "\n",
       "    .dataframe thead th {\n",
       "        text-align: right;\n",
       "    }\n",
       "</style>\n",
       "<table border=\"1\" class=\"dataframe\">\n",
       "  <thead>\n",
       "    <tr style=\"text-align: right;\">\n",
       "      <th></th>\n",
       "      <th>Prediction</th>\n",
       "      <th>Target</th>\n",
       "      <th>Residual</th>\n",
       "      <th>Difference%</th>\n",
       "    </tr>\n",
       "  </thead>\n",
       "  <tbody>\n",
       "    <tr>\n",
       "      <th>501</th>\n",
       "      <td>440640.89</td>\n",
       "      <td>169000.00</td>\n",
       "      <td>-271640.89</td>\n",
       "      <td>160.73</td>\n",
       "    </tr>\n",
       "    <tr>\n",
       "      <th>154</th>\n",
       "      <td>841911.62</td>\n",
       "      <td>325000.00</td>\n",
       "      <td>-516911.62</td>\n",
       "      <td>159.05</td>\n",
       "    </tr>\n",
       "    <tr>\n",
       "      <th>419</th>\n",
       "      <td>180844.24</td>\n",
       "      <td>73000.00</td>\n",
       "      <td>-107844.24</td>\n",
       "      <td>147.73</td>\n",
       "    </tr>\n",
       "    <tr>\n",
       "      <th>978</th>\n",
       "      <td>730120.90</td>\n",
       "      <td>295000.00</td>\n",
       "      <td>-435120.90</td>\n",
       "      <td>147.50</td>\n",
       "    </tr>\n",
       "    <tr>\n",
       "      <th>36</th>\n",
       "      <td>219872.40</td>\n",
       "      <td>89000.00</td>\n",
       "      <td>-130872.40</td>\n",
       "      <td>147.05</td>\n",
       "    </tr>\n",
       "    <tr>\n",
       "      <th>...</th>\n",
       "      <td>...</td>\n",
       "      <td>...</td>\n",
       "      <td>...</td>\n",
       "      <td>...</td>\n",
       "    </tr>\n",
       "    <tr>\n",
       "      <th>399</th>\n",
       "      <td>658661.94</td>\n",
       "      <td>660000.00</td>\n",
       "      <td>1338.06</td>\n",
       "      <td>0.20</td>\n",
       "    </tr>\n",
       "    <tr>\n",
       "      <th>281</th>\n",
       "      <td>200292.37</td>\n",
       "      <td>199900.00</td>\n",
       "      <td>-392.37</td>\n",
       "      <td>0.20</td>\n",
       "    </tr>\n",
       "    <tr>\n",
       "      <th>37</th>\n",
       "      <td>238175.55</td>\n",
       "      <td>238000.00</td>\n",
       "      <td>-175.55</td>\n",
       "      <td>0.07</td>\n",
       "    </tr>\n",
       "    <tr>\n",
       "      <th>427</th>\n",
       "      <td>145925.75</td>\n",
       "      <td>146000.00</td>\n",
       "      <td>74.25</td>\n",
       "      <td>0.05</td>\n",
       "    </tr>\n",
       "    <tr>\n",
       "      <th>841</th>\n",
       "      <td>1450501.52</td>\n",
       "      <td>1450000.00</td>\n",
       "      <td>-501.52</td>\n",
       "      <td>0.03</td>\n",
       "    </tr>\n",
       "  </tbody>\n",
       "</table>\n",
       "<p>991 rows × 4 columns</p>\n",
       "</div>"
      ],
      "text/plain": [
       "     Prediction     Target   Residual  Difference%\n",
       "501   440640.89  169000.00 -271640.89       160.73\n",
       "154   841911.62  325000.00 -516911.62       159.05\n",
       "419   180844.24   73000.00 -107844.24       147.73\n",
       "978   730120.90  295000.00 -435120.90       147.50\n",
       "36    219872.40   89000.00 -130872.40       147.05\n",
       "..          ...        ...        ...          ...\n",
       "399   658661.94  660000.00    1338.06         0.20\n",
       "281   200292.37  199900.00    -392.37         0.20\n",
       "37    238175.55  238000.00    -175.55         0.07\n",
       "427   145925.75  146000.00      74.25         0.05\n",
       "841  1450501.52 1450000.00    -501.52         0.03\n",
       "\n",
       "[991 rows x 4 columns]"
      ]
     },
     "execution_count": 85,
     "metadata": {},
     "output_type": "execute_result"
    }
   ],
   "source": [
    "pd.set_option('display.float_format', lambda x: '%.2f' % x)\n",
    "df_pf.sort_values(by=['Difference%'], ascending = False)"
   ]
  },
  {
   "cell_type": "code",
   "execution_count": 86,
   "id": "7c55e64f",
   "metadata": {},
   "outputs": [
    {
     "name": "stdout",
     "output_type": "stream",
     "text": [
      "Mean Absolute Error: 0.24749741301506334\n",
      "Mean Squared Error: 0.10126199768085847\n",
      "Root Mean Squared Error: 0.31821690351214604\n",
      "R-squared score 0.79\n",
      "Adjusted R-squared score 0.78\n"
     ]
    }
   ],
   "source": [
    "from sklearn import metrics\n",
    "print('Mean Absolute Error:', metrics.mean_absolute_error(y_hat_test_cb, y_test))\n",
    "print('Mean Squared Error:', metrics.mean_squared_error(y_hat_test_cb, y_test))\n",
    "print('Root Mean Squared Error:', np.sqrt(metrics.mean_squared_error(y_hat_test_cb, y_test)))\n",
    "\n",
    "r2_cb = r2_score (y_hat_test_cb, y_test)\n",
    "\n",
    "print ('R-squared score', round (r2_cb,2))\n",
    "\n",
    "#adjusted R-squared:\n",
    "adj_r2_cb = 1 - ((1 - r2_cb) * (254-1)/(254 - 8 - 1))\n",
    "print ('Adjusted R-squared score', round (adj_r2_cb,2))"
   ]
  },
  {
   "cell_type": "code",
   "execution_count": null,
   "id": "0407e046",
   "metadata": {},
   "outputs": [],
   "source": []
  },
  {
   "cell_type": "code",
   "execution_count": null,
   "id": "ac82d0e4",
   "metadata": {},
   "outputs": [],
   "source": []
  },
  {
   "cell_type": "code",
   "execution_count": null,
   "id": "56bbb3b1",
   "metadata": {},
   "outputs": [],
   "source": []
  },
  {
   "cell_type": "code",
   "execution_count": null,
   "id": "27916ac1",
   "metadata": {},
   "outputs": [],
   "source": []
  },
  {
   "cell_type": "code",
   "execution_count": null,
   "id": "b63c40bd",
   "metadata": {},
   "outputs": [],
   "source": [
    "from pyspark.sql import SparkSession "
   ]
  },
  {
   "cell_type": "code",
   "execution_count": null,
   "id": "e5b20012",
   "metadata": {},
   "outputs": [],
   "source": [
    "data = spark.read.format(\"csv\")\\\n",
    "            .option(\"header\", \"true\")\\\n",
    "            .load(\"data_cleaned.csv\", header = True)\n"
   ]
  },
  {
   "cell_type": "code",
   "execution_count": null,
   "id": "b582f5f6",
   "metadata": {},
   "outputs": [],
   "source": [
    "data.show()"
   ]
  },
  {
   "cell_type": "code",
   "execution_count": null,
   "id": "ba9a7394",
   "metadata": {},
   "outputs": [],
   "source": [
    "Built_Year = data.select(\"built_year\").distinct()"
   ]
  },
  {
   "cell_type": "code",
   "execution_count": null,
   "id": "0146415c",
   "metadata": {},
   "outputs": [],
   "source": [
    "Built_Year.show()"
   ]
  },
  {
   "cell_type": "code",
   "execution_count": null,
   "id": "5b78658e",
   "metadata": {},
   "outputs": [],
   "source": [
    "Number_Rooms = data.filter(data.n_rooms == \"3\")"
   ]
  },
  {
   "cell_type": "code",
   "execution_count": null,
   "id": "40b86bfe",
   "metadata": {},
   "outputs": [],
   "source": [
    "Number_Rooms.show()"
   ]
  },
  {
   "cell_type": "code",
   "execution_count": null,
   "id": "88e28ff4",
   "metadata": {},
   "outputs": [],
   "source": [
    "\n",
    "lift_heating = data [(data.has_lift == \"True\") & (data.has_central_heating == \"True\")]"
   ]
  },
  {
   "cell_type": "code",
   "execution_count": null,
   "id": "048205e0",
   "metadata": {},
   "outputs": [],
   "source": [
    "lift_heating.show()"
   ]
  }
 ],
 "metadata": {
  "kernelspec": {
   "display_name": "Python 3",
   "language": "python",
   "name": "python3"
  },
  "language_info": {
   "codemirror_mode": {
    "name": "ipython",
    "version": 3
   },
   "file_extension": ".py",
   "mimetype": "text/x-python",
   "name": "python",
   "nbconvert_exporter": "python",
   "pygments_lexer": "ipython3",
   "version": "3.8.8"
  }
 },
 "nbformat": 4,
 "nbformat_minor": 5
}
